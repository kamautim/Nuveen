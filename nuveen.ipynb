{
 "cells": [
  {
   "cell_type": "code",
   "execution_count": 291,
   "metadata": {},
   "outputs": [],
   "source": [
    "import pandas as pd"
   ]
  },
  {
   "cell_type": "code",
   "execution_count": 292,
   "metadata": {},
   "outputs": [],
   "source": [
    "df = pd.read_excel('data.xlsx')\n",
    "target_df = pd.read_excel('data.xlsx', sheet_name = 'Transactions19')"
   ]
  },
  {
   "cell_type": "code",
   "execution_count": 293,
   "metadata": {},
   "outputs": [
    {
     "data": {
      "text/html": [
       "<div>\n",
       "<style scoped>\n",
       "    .dataframe tbody tr th:only-of-type {\n",
       "        vertical-align: middle;\n",
       "    }\n",
       "\n",
       "    .dataframe tbody tr th {\n",
       "        vertical-align: top;\n",
       "    }\n",
       "\n",
       "    .dataframe thead th {\n",
       "        text-align: right;\n",
       "    }\n",
       "</style>\n",
       "<table border=\"1\" class=\"dataframe\">\n",
       "  <thead>\n",
       "    <tr style=\"text-align: right;\">\n",
       "      <th></th>\n",
       "      <th>CONTACT_ID</th>\n",
       "      <th>sales_12M</th>\n",
       "      <th>new_Fund_added_12M</th>\n",
       "      <th>refresh_date</th>\n",
       "    </tr>\n",
       "  </thead>\n",
       "  <tbody>\n",
       "    <tr>\n",
       "      <th>0</th>\n",
       "      <td>10761171685327323628</td>\n",
       "      <td>4484.20</td>\n",
       "      <td>NaN</td>\n",
       "      <td>2019-12-31</td>\n",
       "    </tr>\n",
       "    <tr>\n",
       "      <th>1</th>\n",
       "      <td>85102132684855362312</td>\n",
       "      <td>NaN</td>\n",
       "      <td>NaN</td>\n",
       "      <td>2019-12-31</td>\n",
       "    </tr>\n",
       "    <tr>\n",
       "      <th>2</th>\n",
       "      <td>85101122533782678327</td>\n",
       "      <td>128362.82</td>\n",
       "      <td>NaN</td>\n",
       "      <td>2019-12-31</td>\n",
       "    </tr>\n",
       "    <tr>\n",
       "      <th>3</th>\n",
       "      <td>4478952</td>\n",
       "      <td>160930.89</td>\n",
       "      <td>1.0</td>\n",
       "      <td>2019-12-31</td>\n",
       "    </tr>\n",
       "    <tr>\n",
       "      <th>4</th>\n",
       "      <td>85102153463467397715</td>\n",
       "      <td>NaN</td>\n",
       "      <td>NaN</td>\n",
       "      <td>2019-12-31</td>\n",
       "    </tr>\n",
       "  </tbody>\n",
       "</table>\n",
       "</div>"
      ],
      "text/plain": [
       "             CONTACT_ID  sales_12M  new_Fund_added_12M refresh_date\n",
       "0  10761171685327323628    4484.20                 NaN   2019-12-31\n",
       "1  85102132684855362312        NaN                 NaN   2019-12-31\n",
       "2  85101122533782678327  128362.82                 NaN   2019-12-31\n",
       "3               4478952  160930.89                 1.0   2019-12-31\n",
       "4  85102153463467397715        NaN                 NaN   2019-12-31"
      ]
     },
     "execution_count": 293,
     "metadata": {},
     "output_type": "execute_result"
    }
   ],
   "source": [
    "target_df.head()"
   ]
  },
  {
   "cell_type": "code",
   "execution_count": 294,
   "metadata": {},
   "outputs": [
    {
     "data": {
      "text/plain": [
       "Index(['CONTACT_ID', 'no_of_sales_12M_1', 'no_of_Redemption_12M_1',\n",
       "       'no_of_sales_12M_10K', 'no_of_Redemption_12M_10K',\n",
       "       'no_of_funds_sold_12M_1', 'no_of_funds_redeemed_12M_1',\n",
       "       'no_of_fund_sales_12M_10K', 'no_of_funds_Redemption_12M_10K',\n",
       "       'no_of_assetclass_sold_12M_1', 'no_of_assetclass_redeemed_12M_1',\n",
       "       'no_of_assetclass_sales_12M_10K', 'no_of_assetclass_Redemption_12M_10K',\n",
       "       'No_of_fund_curr', 'No_of_asset_curr', 'AUM', 'sales_curr', 'sales_12M',\n",
       "       'redemption_curr', 'redemption_12M', 'new_Fund_added_12M',\n",
       "       'aum_AC_EQUITY', 'aum_AC_FIXED_INCOME_MUNI',\n",
       "       'aum_AC_FIXED_INCOME_TAXABLE', 'aum_AC_MONEY', 'aum_AC_MULTIPLE',\n",
       "       'aum_AC_PHYSICAL_COMMODITY', 'aum_AC_REAL_ESTATE', 'aum_AC_TARGET',\n",
       "       'aum_P_529', 'aum_P_ALT', 'aum_P_CEF', 'aum_P_ETF', 'aum_P_MF',\n",
       "       'aum_P_SMA', 'aum_P_UCITS', 'aum_P_UIT', 'refresh_date'],\n",
       "      dtype='object')"
      ]
     },
     "execution_count": 294,
     "metadata": {},
     "output_type": "execute_result"
    }
   ],
   "source": [
    "df.columns"
   ]
  },
  {
   "cell_type": "code",
   "execution_count": 295,
   "metadata": {},
   "outputs": [],
   "source": [
    "df['total_sales'] = df['sales_12M'] + df['sales_curr']"
   ]
  },
  {
   "cell_type": "code",
   "execution_count": 296,
   "metadata": {},
   "outputs": [],
   "source": [
    "full_df = pd.merge(df, target_df, on = 'CONTACT_ID')"
   ]
  },
  {
   "cell_type": "code",
   "execution_count": 297,
   "metadata": {},
   "outputs": [
    {
     "data": {
      "text/html": [
       "<div>\n",
       "<style scoped>\n",
       "    .dataframe tbody tr th:only-of-type {\n",
       "        vertical-align: middle;\n",
       "    }\n",
       "\n",
       "    .dataframe tbody tr th {\n",
       "        vertical-align: top;\n",
       "    }\n",
       "\n",
       "    .dataframe thead th {\n",
       "        text-align: right;\n",
       "    }\n",
       "</style>\n",
       "<table border=\"1\" class=\"dataframe\">\n",
       "  <thead>\n",
       "    <tr style=\"text-align: right;\">\n",
       "      <th></th>\n",
       "      <th>CONTACT_ID</th>\n",
       "      <th>no_of_sales_12M_1</th>\n",
       "      <th>no_of_Redemption_12M_1</th>\n",
       "      <th>no_of_sales_12M_10K</th>\n",
       "      <th>no_of_Redemption_12M_10K</th>\n",
       "      <th>no_of_funds_sold_12M_1</th>\n",
       "      <th>no_of_funds_redeemed_12M_1</th>\n",
       "      <th>no_of_fund_sales_12M_10K</th>\n",
       "      <th>no_of_funds_Redemption_12M_10K</th>\n",
       "      <th>no_of_assetclass_sold_12M_1</th>\n",
       "      <th>...</th>\n",
       "      <th>aum_P_ETF</th>\n",
       "      <th>aum_P_MF</th>\n",
       "      <th>aum_P_SMA</th>\n",
       "      <th>aum_P_UCITS</th>\n",
       "      <th>aum_P_UIT</th>\n",
       "      <th>refresh_date_x</th>\n",
       "      <th>total_sales</th>\n",
       "      <th>sales_12M_y</th>\n",
       "      <th>new_Fund_added_12M_y</th>\n",
       "      <th>refresh_date_y</th>\n",
       "    </tr>\n",
       "  </thead>\n",
       "  <tbody>\n",
       "    <tr>\n",
       "      <th>0</th>\n",
       "      <td>0047433</td>\n",
       "      <td>21.0</td>\n",
       "      <td>38.0</td>\n",
       "      <td>NaN</td>\n",
       "      <td>1.0</td>\n",
       "      <td>5.0</td>\n",
       "      <td>5.0</td>\n",
       "      <td>NaN</td>\n",
       "      <td>1.0</td>\n",
       "      <td>2.0</td>\n",
       "      <td>...</td>\n",
       "      <td>0.0</td>\n",
       "      <td>122866.04</td>\n",
       "      <td>114614.07</td>\n",
       "      <td>0.0</td>\n",
       "      <td>0.0</td>\n",
       "      <td>2018-12-31</td>\n",
       "      <td>19932.0</td>\n",
       "      <td>18633.105</td>\n",
       "      <td>NaN</td>\n",
       "      <td>2019-12-31</td>\n",
       "    </tr>\n",
       "    <tr>\n",
       "      <th>1</th>\n",
       "      <td>4461312</td>\n",
       "      <td>NaN</td>\n",
       "      <td>NaN</td>\n",
       "      <td>NaN</td>\n",
       "      <td>NaN</td>\n",
       "      <td>NaN</td>\n",
       "      <td>NaN</td>\n",
       "      <td>NaN</td>\n",
       "      <td>NaN</td>\n",
       "      <td>NaN</td>\n",
       "      <td>...</td>\n",
       "      <td>0.0</td>\n",
       "      <td>19629.00</td>\n",
       "      <td>0.00</td>\n",
       "      <td>0.0</td>\n",
       "      <td>0.0</td>\n",
       "      <td>2018-12-31</td>\n",
       "      <td>NaN</td>\n",
       "      <td>NaN</td>\n",
       "      <td>NaN</td>\n",
       "      <td>2019-12-31</td>\n",
       "    </tr>\n",
       "    <tr>\n",
       "      <th>2</th>\n",
       "      <td>4491079</td>\n",
       "      <td>NaN</td>\n",
       "      <td>NaN</td>\n",
       "      <td>NaN</td>\n",
       "      <td>NaN</td>\n",
       "      <td>NaN</td>\n",
       "      <td>NaN</td>\n",
       "      <td>NaN</td>\n",
       "      <td>NaN</td>\n",
       "      <td>NaN</td>\n",
       "      <td>...</td>\n",
       "      <td>0.0</td>\n",
       "      <td>1758.70</td>\n",
       "      <td>0.00</td>\n",
       "      <td>0.0</td>\n",
       "      <td>0.0</td>\n",
       "      <td>2018-12-31</td>\n",
       "      <td>NaN</td>\n",
       "      <td>NaN</td>\n",
       "      <td>NaN</td>\n",
       "      <td>2019-12-31</td>\n",
       "    </tr>\n",
       "    <tr>\n",
       "      <th>3</th>\n",
       "      <td>0107408</td>\n",
       "      <td>20.0</td>\n",
       "      <td>NaN</td>\n",
       "      <td>2.0</td>\n",
       "      <td>NaN</td>\n",
       "      <td>1.0</td>\n",
       "      <td>NaN</td>\n",
       "      <td>1.0</td>\n",
       "      <td>NaN</td>\n",
       "      <td>1.0</td>\n",
       "      <td>...</td>\n",
       "      <td>0.0</td>\n",
       "      <td>57943.00</td>\n",
       "      <td>0.00</td>\n",
       "      <td>0.0</td>\n",
       "      <td>0.0</td>\n",
       "      <td>2018-12-31</td>\n",
       "      <td>57943.0</td>\n",
       "      <td>93212.000</td>\n",
       "      <td>1.0</td>\n",
       "      <td>2019-12-31</td>\n",
       "    </tr>\n",
       "    <tr>\n",
       "      <th>4</th>\n",
       "      <td>85101140503769936458</td>\n",
       "      <td>NaN</td>\n",
       "      <td>NaN</td>\n",
       "      <td>NaN</td>\n",
       "      <td>NaN</td>\n",
       "      <td>NaN</td>\n",
       "      <td>NaN</td>\n",
       "      <td>NaN</td>\n",
       "      <td>NaN</td>\n",
       "      <td>NaN</td>\n",
       "      <td>...</td>\n",
       "      <td>0.0</td>\n",
       "      <td>-8573.59</td>\n",
       "      <td>0.00</td>\n",
       "      <td>0.0</td>\n",
       "      <td>0.0</td>\n",
       "      <td>2018-12-31</td>\n",
       "      <td>NaN</td>\n",
       "      <td>NaN</td>\n",
       "      <td>NaN</td>\n",
       "      <td>2019-12-31</td>\n",
       "    </tr>\n",
       "  </tbody>\n",
       "</table>\n",
       "<p>5 rows × 42 columns</p>\n",
       "</div>"
      ],
      "text/plain": [
       "             CONTACT_ID  no_of_sales_12M_1  no_of_Redemption_12M_1  \\\n",
       "0               0047433               21.0                    38.0   \n",
       "1               4461312                NaN                     NaN   \n",
       "2               4491079                NaN                     NaN   \n",
       "3               0107408               20.0                     NaN   \n",
       "4  85101140503769936458                NaN                     NaN   \n",
       "\n",
       "   no_of_sales_12M_10K  no_of_Redemption_12M_10K  no_of_funds_sold_12M_1  \\\n",
       "0                  NaN                       1.0                     5.0   \n",
       "1                  NaN                       NaN                     NaN   \n",
       "2                  NaN                       NaN                     NaN   \n",
       "3                  2.0                       NaN                     1.0   \n",
       "4                  NaN                       NaN                     NaN   \n",
       "\n",
       "   no_of_funds_redeemed_12M_1  no_of_fund_sales_12M_10K  \\\n",
       "0                         5.0                       NaN   \n",
       "1                         NaN                       NaN   \n",
       "2                         NaN                       NaN   \n",
       "3                         NaN                       1.0   \n",
       "4                         NaN                       NaN   \n",
       "\n",
       "   no_of_funds_Redemption_12M_10K  no_of_assetclass_sold_12M_1  ...  \\\n",
       "0                             1.0                          2.0  ...   \n",
       "1                             NaN                          NaN  ...   \n",
       "2                             NaN                          NaN  ...   \n",
       "3                             NaN                          1.0  ...   \n",
       "4                             NaN                          NaN  ...   \n",
       "\n",
       "   aum_P_ETF   aum_P_MF  aum_P_SMA  aum_P_UCITS  aum_P_UIT  refresh_date_x  \\\n",
       "0        0.0  122866.04  114614.07          0.0        0.0      2018-12-31   \n",
       "1        0.0   19629.00       0.00          0.0        0.0      2018-12-31   \n",
       "2        0.0    1758.70       0.00          0.0        0.0      2018-12-31   \n",
       "3        0.0   57943.00       0.00          0.0        0.0      2018-12-31   \n",
       "4        0.0   -8573.59       0.00          0.0        0.0      2018-12-31   \n",
       "\n",
       "   total_sales  sales_12M_y  new_Fund_added_12M_y  refresh_date_y  \n",
       "0      19932.0    18633.105                   NaN      2019-12-31  \n",
       "1          NaN          NaN                   NaN      2019-12-31  \n",
       "2          NaN          NaN                   NaN      2019-12-31  \n",
       "3      57943.0    93212.000                   1.0      2019-12-31  \n",
       "4          NaN          NaN                   NaN      2019-12-31  \n",
       "\n",
       "[5 rows x 42 columns]"
      ]
     },
     "execution_count": 297,
     "metadata": {},
     "output_type": "execute_result"
    }
   ],
   "source": [
    "full_df.head()"
   ]
  },
  {
   "cell_type": "code",
   "execution_count": 298,
   "metadata": {},
   "outputs": [],
   "source": [
    "full_df.rename({'sales_12M_y': 'new_sales'}, axis=1, inplace=True)"
   ]
  },
  {
   "cell_type": "code",
   "execution_count": 299,
   "metadata": {},
   "outputs": [
    {
     "data": {
      "text/html": [
       "<div>\n",
       "<style scoped>\n",
       "    .dataframe tbody tr th:only-of-type {\n",
       "        vertical-align: middle;\n",
       "    }\n",
       "\n",
       "    .dataframe tbody tr th {\n",
       "        vertical-align: top;\n",
       "    }\n",
       "\n",
       "    .dataframe thead th {\n",
       "        text-align: right;\n",
       "    }\n",
       "</style>\n",
       "<table border=\"1\" class=\"dataframe\">\n",
       "  <thead>\n",
       "    <tr style=\"text-align: right;\">\n",
       "      <th></th>\n",
       "      <th>CONTACT_ID</th>\n",
       "      <th>no_of_sales_12M_1</th>\n",
       "      <th>no_of_Redemption_12M_1</th>\n",
       "      <th>no_of_sales_12M_10K</th>\n",
       "      <th>no_of_Redemption_12M_10K</th>\n",
       "      <th>no_of_funds_sold_12M_1</th>\n",
       "      <th>no_of_funds_redeemed_12M_1</th>\n",
       "      <th>no_of_fund_sales_12M_10K</th>\n",
       "      <th>no_of_funds_Redemption_12M_10K</th>\n",
       "      <th>no_of_assetclass_sold_12M_1</th>\n",
       "      <th>...</th>\n",
       "      <th>aum_P_ETF</th>\n",
       "      <th>aum_P_MF</th>\n",
       "      <th>aum_P_SMA</th>\n",
       "      <th>aum_P_UCITS</th>\n",
       "      <th>aum_P_UIT</th>\n",
       "      <th>refresh_date_x</th>\n",
       "      <th>total_sales</th>\n",
       "      <th>new_sales</th>\n",
       "      <th>new_Fund_added_12M_y</th>\n",
       "      <th>refresh_date_y</th>\n",
       "    </tr>\n",
       "  </thead>\n",
       "  <tbody>\n",
       "    <tr>\n",
       "      <th>0</th>\n",
       "      <td>0047433</td>\n",
       "      <td>21.0</td>\n",
       "      <td>38.0</td>\n",
       "      <td>NaN</td>\n",
       "      <td>1.0</td>\n",
       "      <td>5.0</td>\n",
       "      <td>5.0</td>\n",
       "      <td>NaN</td>\n",
       "      <td>1.0</td>\n",
       "      <td>2.0</td>\n",
       "      <td>...</td>\n",
       "      <td>0.0</td>\n",
       "      <td>122866.04</td>\n",
       "      <td>114614.07</td>\n",
       "      <td>0.0</td>\n",
       "      <td>0.0</td>\n",
       "      <td>2018-12-31</td>\n",
       "      <td>19932.0</td>\n",
       "      <td>18633.105</td>\n",
       "      <td>NaN</td>\n",
       "      <td>2019-12-31</td>\n",
       "    </tr>\n",
       "  </tbody>\n",
       "</table>\n",
       "<p>1 rows × 42 columns</p>\n",
       "</div>"
      ],
      "text/plain": [
       "  CONTACT_ID  no_of_sales_12M_1  no_of_Redemption_12M_1  no_of_sales_12M_10K  \\\n",
       "0    0047433               21.0                    38.0                  NaN   \n",
       "\n",
       "   no_of_Redemption_12M_10K  no_of_funds_sold_12M_1  \\\n",
       "0                       1.0                     5.0   \n",
       "\n",
       "   no_of_funds_redeemed_12M_1  no_of_fund_sales_12M_10K  \\\n",
       "0                         5.0                       NaN   \n",
       "\n",
       "   no_of_funds_Redemption_12M_10K  no_of_assetclass_sold_12M_1  ...  \\\n",
       "0                             1.0                          2.0  ...   \n",
       "\n",
       "   aum_P_ETF   aum_P_MF  aum_P_SMA  aum_P_UCITS  aum_P_UIT  refresh_date_x  \\\n",
       "0        0.0  122866.04  114614.07          0.0        0.0      2018-12-31   \n",
       "\n",
       "   total_sales  new_sales  new_Fund_added_12M_y  refresh_date_y  \n",
       "0      19932.0  18633.105                   NaN      2019-12-31  \n",
       "\n",
       "[1 rows x 42 columns]"
      ]
     },
     "execution_count": 299,
     "metadata": {},
     "output_type": "execute_result"
    }
   ],
   "source": [
    "full_df.head(1)"
   ]
  },
  {
   "cell_type": "code",
   "execution_count": 300,
   "metadata": {},
   "outputs": [],
   "source": [
    "firms_df = pd.read_excel('firms.xlsx', sheet_name='Rep summary')"
   ]
  },
  {
   "cell_type": "code",
   "execution_count": 301,
   "metadata": {},
   "outputs": [
    {
     "data": {
      "text/html": [
       "<div>\n",
       "<style scoped>\n",
       "    .dataframe tbody tr th:only-of-type {\n",
       "        vertical-align: middle;\n",
       "    }\n",
       "\n",
       "    .dataframe tbody tr th {\n",
       "        vertical-align: top;\n",
       "    }\n",
       "\n",
       "    .dataframe thead th {\n",
       "        text-align: right;\n",
       "    }\n",
       "</style>\n",
       "<table border=\"1\" class=\"dataframe\">\n",
       "  <thead>\n",
       "    <tr style=\"text-align: right;\">\n",
       "      <th></th>\n",
       "      <th>Contact ID</th>\n",
       "      <th>CustomerID</th>\n",
       "      <th>Firm ID</th>\n",
       "      <th>Office ID</th>\n",
       "      <th>Channel</th>\n",
       "      <th>Sub channel</th>\n",
       "      <th>Firm name</th>\n",
       "    </tr>\n",
       "  </thead>\n",
       "  <tbody>\n",
       "    <tr>\n",
       "      <th>0</th>\n",
       "      <td>0000286</td>\n",
       "      <td>1</td>\n",
       "      <td>1948520</td>\n",
       "      <td>17993101120</td>\n",
       "      <td>National Broker-Dealer</td>\n",
       "      <td>NACS</td>\n",
       "      <td>Morgan Stanley Wealth Management</td>\n",
       "    </tr>\n",
       "    <tr>\n",
       "      <th>1</th>\n",
       "      <td>0000422</td>\n",
       "      <td>2</td>\n",
       "      <td>1688552</td>\n",
       "      <td>85202111664692445495</td>\n",
       "      <td>National Broker-Dealer</td>\n",
       "      <td>NACS</td>\n",
       "      <td>UBS Financial Services, Inc.</td>\n",
       "    </tr>\n",
       "    <tr>\n",
       "      <th>2</th>\n",
       "      <td>0000508</td>\n",
       "      <td>3</td>\n",
       "      <td>1567450</td>\n",
       "      <td>15674503441</td>\n",
       "      <td>National Broker-Dealer</td>\n",
       "      <td>NACS</td>\n",
       "      <td>Merrill Lynch</td>\n",
       "    </tr>\n",
       "    <tr>\n",
       "      <th>3</th>\n",
       "      <td>0000604</td>\n",
       "      <td>4</td>\n",
       "      <td>0022885</td>\n",
       "      <td>85102132106001250782</td>\n",
       "      <td>Independent Dealer</td>\n",
       "      <td>IBD</td>\n",
       "      <td>LPL Financial LLC</td>\n",
       "    </tr>\n",
       "    <tr>\n",
       "      <th>4</th>\n",
       "      <td>0000657</td>\n",
       "      <td>5</td>\n",
       "      <td>1567450</td>\n",
       "      <td>15674501882</td>\n",
       "      <td>National Broker-Dealer</td>\n",
       "      <td>NACS</td>\n",
       "      <td>Merrill Lynch</td>\n",
       "    </tr>\n",
       "  </tbody>\n",
       "</table>\n",
       "</div>"
      ],
      "text/plain": [
       "  Contact ID  CustomerID  Firm ID             Office ID  \\\n",
       "0    0000286           1  1948520           17993101120   \n",
       "1    0000422           2  1688552  85202111664692445495   \n",
       "2    0000508           3  1567450           15674503441   \n",
       "3    0000604           4  0022885  85102132106001250782   \n",
       "4    0000657           5  1567450           15674501882   \n",
       "\n",
       "                  Channel Sub channel                         Firm name  \n",
       "0  National Broker-Dealer        NACS  Morgan Stanley Wealth Management  \n",
       "1  National Broker-Dealer        NACS      UBS Financial Services, Inc.  \n",
       "2  National Broker-Dealer        NACS                     Merrill Lynch  \n",
       "3      Independent Dealer         IBD                 LPL Financial LLC  \n",
       "4  National Broker-Dealer        NACS                     Merrill Lynch  "
      ]
     },
     "execution_count": 301,
     "metadata": {},
     "output_type": "execute_result"
    }
   ],
   "source": [
    "firms_df.head()"
   ]
  },
  {
   "cell_type": "code",
   "execution_count": 302,
   "metadata": {},
   "outputs": [],
   "source": [
    "# target_df.drop('refresh_date', axis=1, inplace=True)"
   ]
  },
  {
   "cell_type": "code",
   "execution_count": 303,
   "metadata": {},
   "outputs": [
    {
     "data": {
      "text/plain": [
       "Index(['Contact ID', 'CustomerID', 'Firm ID', 'Office ID', 'Channel',\n",
       "       'Sub channel', 'Firm name'],\n",
       "      dtype='object')"
      ]
     },
     "execution_count": 303,
     "metadata": {},
     "output_type": "execute_result"
    }
   ],
   "source": [
    "firms_df.columns"
   ]
  },
  {
   "cell_type": "code",
   "execution_count": 304,
   "metadata": {},
   "outputs": [],
   "source": [
    "firms_df.drop(['CustomerID', 'Firm ID', 'Office ID'], axis=1, inplace=True)"
   ]
  },
  {
   "cell_type": "code",
   "execution_count": 305,
   "metadata": {},
   "outputs": [
    {
     "data": {
      "text/html": [
       "<div>\n",
       "<style scoped>\n",
       "    .dataframe tbody tr th:only-of-type {\n",
       "        vertical-align: middle;\n",
       "    }\n",
       "\n",
       "    .dataframe tbody tr th {\n",
       "        vertical-align: top;\n",
       "    }\n",
       "\n",
       "    .dataframe thead th {\n",
       "        text-align: right;\n",
       "    }\n",
       "</style>\n",
       "<table border=\"1\" class=\"dataframe\">\n",
       "  <thead>\n",
       "    <tr style=\"text-align: right;\">\n",
       "      <th></th>\n",
       "      <th>Contact ID</th>\n",
       "      <th>Channel</th>\n",
       "      <th>Sub channel</th>\n",
       "      <th>Firm name</th>\n",
       "    </tr>\n",
       "  </thead>\n",
       "  <tbody>\n",
       "    <tr>\n",
       "      <th>0</th>\n",
       "      <td>0000286</td>\n",
       "      <td>National Broker-Dealer</td>\n",
       "      <td>NACS</td>\n",
       "      <td>Morgan Stanley Wealth Management</td>\n",
       "    </tr>\n",
       "  </tbody>\n",
       "</table>\n",
       "</div>"
      ],
      "text/plain": [
       "  Contact ID                 Channel Sub channel  \\\n",
       "0    0000286  National Broker-Dealer        NACS   \n",
       "\n",
       "                          Firm name  \n",
       "0  Morgan Stanley Wealth Management  "
      ]
     },
     "execution_count": 305,
     "metadata": {},
     "output_type": "execute_result"
    }
   ],
   "source": [
    "firms_df.head(1)"
   ]
  },
  {
   "cell_type": "code",
   "execution_count": 306,
   "metadata": {},
   "outputs": [
    {
     "data": {
      "text/html": [
       "<div>\n",
       "<style scoped>\n",
       "    .dataframe tbody tr th:only-of-type {\n",
       "        vertical-align: middle;\n",
       "    }\n",
       "\n",
       "    .dataframe tbody tr th {\n",
       "        vertical-align: top;\n",
       "    }\n",
       "\n",
       "    .dataframe thead th {\n",
       "        text-align: right;\n",
       "    }\n",
       "</style>\n",
       "<table border=\"1\" class=\"dataframe\">\n",
       "  <thead>\n",
       "    <tr style=\"text-align: right;\">\n",
       "      <th></th>\n",
       "      <th>CONTACT_ID</th>\n",
       "      <th>no_of_sales_12M_1</th>\n",
       "      <th>no_of_Redemption_12M_1</th>\n",
       "      <th>no_of_sales_12M_10K</th>\n",
       "      <th>no_of_Redemption_12M_10K</th>\n",
       "      <th>no_of_funds_sold_12M_1</th>\n",
       "      <th>no_of_funds_redeemed_12M_1</th>\n",
       "      <th>no_of_fund_sales_12M_10K</th>\n",
       "      <th>no_of_funds_Redemption_12M_10K</th>\n",
       "      <th>no_of_assetclass_sold_12M_1</th>\n",
       "      <th>...</th>\n",
       "      <th>aum_P_ETF</th>\n",
       "      <th>aum_P_MF</th>\n",
       "      <th>aum_P_SMA</th>\n",
       "      <th>aum_P_UCITS</th>\n",
       "      <th>aum_P_UIT</th>\n",
       "      <th>refresh_date_x</th>\n",
       "      <th>total_sales</th>\n",
       "      <th>new_sales</th>\n",
       "      <th>new_Fund_added_12M_y</th>\n",
       "      <th>refresh_date_y</th>\n",
       "    </tr>\n",
       "  </thead>\n",
       "  <tbody>\n",
       "    <tr>\n",
       "      <th>0</th>\n",
       "      <td>0047433</td>\n",
       "      <td>21.0</td>\n",
       "      <td>38.0</td>\n",
       "      <td>NaN</td>\n",
       "      <td>1.0</td>\n",
       "      <td>5.0</td>\n",
       "      <td>5.0</td>\n",
       "      <td>NaN</td>\n",
       "      <td>1.0</td>\n",
       "      <td>2.0</td>\n",
       "      <td>...</td>\n",
       "      <td>0.0</td>\n",
       "      <td>122866.04</td>\n",
       "      <td>114614.07</td>\n",
       "      <td>0.0</td>\n",
       "      <td>0.0</td>\n",
       "      <td>2018-12-31</td>\n",
       "      <td>19932.0</td>\n",
       "      <td>18633.105</td>\n",
       "      <td>NaN</td>\n",
       "      <td>2019-12-31</td>\n",
       "    </tr>\n",
       "  </tbody>\n",
       "</table>\n",
       "<p>1 rows × 42 columns</p>\n",
       "</div>"
      ],
      "text/plain": [
       "  CONTACT_ID  no_of_sales_12M_1  no_of_Redemption_12M_1  no_of_sales_12M_10K  \\\n",
       "0    0047433               21.0                    38.0                  NaN   \n",
       "\n",
       "   no_of_Redemption_12M_10K  no_of_funds_sold_12M_1  \\\n",
       "0                       1.0                     5.0   \n",
       "\n",
       "   no_of_funds_redeemed_12M_1  no_of_fund_sales_12M_10K  \\\n",
       "0                         5.0                       NaN   \n",
       "\n",
       "   no_of_funds_Redemption_12M_10K  no_of_assetclass_sold_12M_1  ...  \\\n",
       "0                             1.0                          2.0  ...   \n",
       "\n",
       "   aum_P_ETF   aum_P_MF  aum_P_SMA  aum_P_UCITS  aum_P_UIT  refresh_date_x  \\\n",
       "0        0.0  122866.04  114614.07          0.0        0.0      2018-12-31   \n",
       "\n",
       "   total_sales  new_sales  new_Fund_added_12M_y  refresh_date_y  \n",
       "0      19932.0  18633.105                   NaN      2019-12-31  \n",
       "\n",
       "[1 rows x 42 columns]"
      ]
     },
     "execution_count": 306,
     "metadata": {},
     "output_type": "execute_result"
    }
   ],
   "source": [
    "full_df.head(1)"
   ]
  },
  {
   "cell_type": "code",
   "execution_count": 307,
   "metadata": {},
   "outputs": [],
   "source": [
    "full_df.rename({'CONTACT_ID': 'Contact ID'}, axis=1, inplace=1)"
   ]
  },
  {
   "cell_type": "code",
   "execution_count": 308,
   "metadata": {},
   "outputs": [],
   "source": [
    "full_df = pd.merge(full_df, firms_df, on = 'Contact ID')"
   ]
  },
  {
   "cell_type": "code",
   "execution_count": 309,
   "metadata": {},
   "outputs": [
    {
     "data": {
      "text/html": [
       "<div>\n",
       "<style scoped>\n",
       "    .dataframe tbody tr th:only-of-type {\n",
       "        vertical-align: middle;\n",
       "    }\n",
       "\n",
       "    .dataframe tbody tr th {\n",
       "        vertical-align: top;\n",
       "    }\n",
       "\n",
       "    .dataframe thead th {\n",
       "        text-align: right;\n",
       "    }\n",
       "</style>\n",
       "<table border=\"1\" class=\"dataframe\">\n",
       "  <thead>\n",
       "    <tr style=\"text-align: right;\">\n",
       "      <th></th>\n",
       "      <th>Contact ID</th>\n",
       "      <th>no_of_sales_12M_1</th>\n",
       "      <th>no_of_Redemption_12M_1</th>\n",
       "      <th>no_of_sales_12M_10K</th>\n",
       "      <th>no_of_Redemption_12M_10K</th>\n",
       "      <th>no_of_funds_sold_12M_1</th>\n",
       "      <th>no_of_funds_redeemed_12M_1</th>\n",
       "      <th>no_of_fund_sales_12M_10K</th>\n",
       "      <th>no_of_funds_Redemption_12M_10K</th>\n",
       "      <th>no_of_assetclass_sold_12M_1</th>\n",
       "      <th>...</th>\n",
       "      <th>aum_P_UCITS</th>\n",
       "      <th>aum_P_UIT</th>\n",
       "      <th>refresh_date_x</th>\n",
       "      <th>total_sales</th>\n",
       "      <th>new_sales</th>\n",
       "      <th>new_Fund_added_12M_y</th>\n",
       "      <th>refresh_date_y</th>\n",
       "      <th>Channel</th>\n",
       "      <th>Sub channel</th>\n",
       "      <th>Firm name</th>\n",
       "    </tr>\n",
       "  </thead>\n",
       "  <tbody>\n",
       "    <tr>\n",
       "      <th>0</th>\n",
       "      <td>0047433</td>\n",
       "      <td>21.0</td>\n",
       "      <td>38.0</td>\n",
       "      <td>NaN</td>\n",
       "      <td>1.0</td>\n",
       "      <td>5.0</td>\n",
       "      <td>5.0</td>\n",
       "      <td>NaN</td>\n",
       "      <td>1.0</td>\n",
       "      <td>2.0</td>\n",
       "      <td>...</td>\n",
       "      <td>0.0</td>\n",
       "      <td>0.0</td>\n",
       "      <td>2018-12-31</td>\n",
       "      <td>19932.0</td>\n",
       "      <td>18633.105</td>\n",
       "      <td>NaN</td>\n",
       "      <td>2019-12-31</td>\n",
       "      <td>National Broker-Dealer</td>\n",
       "      <td>NACS</td>\n",
       "      <td>UBS Financial Services, Inc.</td>\n",
       "    </tr>\n",
       "  </tbody>\n",
       "</table>\n",
       "<p>1 rows × 45 columns</p>\n",
       "</div>"
      ],
      "text/plain": [
       "  Contact ID  no_of_sales_12M_1  no_of_Redemption_12M_1  no_of_sales_12M_10K  \\\n",
       "0    0047433               21.0                    38.0                  NaN   \n",
       "\n",
       "   no_of_Redemption_12M_10K  no_of_funds_sold_12M_1  \\\n",
       "0                       1.0                     5.0   \n",
       "\n",
       "   no_of_funds_redeemed_12M_1  no_of_fund_sales_12M_10K  \\\n",
       "0                         5.0                       NaN   \n",
       "\n",
       "   no_of_funds_Redemption_12M_10K  no_of_assetclass_sold_12M_1  ...  \\\n",
       "0                             1.0                          2.0  ...   \n",
       "\n",
       "   aum_P_UCITS  aum_P_UIT  refresh_date_x  total_sales  new_sales  \\\n",
       "0          0.0        0.0      2018-12-31      19932.0  18633.105   \n",
       "\n",
       "   new_Fund_added_12M_y  refresh_date_y                 Channel  Sub channel  \\\n",
       "0                   NaN      2019-12-31  National Broker-Dealer         NACS   \n",
       "\n",
       "                      Firm name  \n",
       "0  UBS Financial Services, Inc.  \n",
       "\n",
       "[1 rows x 45 columns]"
      ]
     },
     "execution_count": 309,
     "metadata": {},
     "output_type": "execute_result"
    }
   ],
   "source": [
    "full_df.head(1)"
   ]
  },
  {
   "cell_type": "code",
   "execution_count": null,
   "metadata": {},
   "outputs": [],
   "source": [
    "\n",
    "\n"
   ]
  },
  {
   "cell_type": "code",
   "execution_count": 310,
   "metadata": {},
   "outputs": [
    {
     "data": {
      "text/plain": [
       "<matplotlib.axes._subplots.AxesSubplot at 0x2416c5c0c70>"
      ]
     },
     "execution_count": 310,
     "metadata": {},
     "output_type": "execute_result"
    },
    {
     "data": {
      "image/png": "[encoded data removed]",
      "text/plain": [
       "<Figure size 432x288 with 1 Axes>"
      ]
     },
     "metadata": {
      "needs_background": "light"
     },
     "output_type": "display_data"
    }
   ],
   "source": [
    "full_df.groupby('Firm name')[['total_sales']].mean().nlargest(10, 'total_sales').plot(kind = 'barh')"
   ]
  },
  {
   "cell_type": "code",
   "execution_count": 311,
   "metadata": {},
   "outputs": [],
   "source": [
    "import matplotlib.pyplot as plt"
   ]
  },
  {
   "cell_type": "code",
   "execution_count": 312,
   "metadata": {},
   "outputs": [
    {
     "data": {
      "text/plain": [
       "Text(0, 0.5, 'Total Sales Next Year')"
      ]
     },
     "execution_count": 312,
     "metadata": {},
     "output_type": "execute_result"
    },
    {
     "data": {
      "image/png": "[encoded data removed]",
      "text/plain": [
       "<Figure size 432x288 with 1 Axes>"
      ]
     },
     "metadata": {
      "needs_background": "light"
     },
     "output_type": "display_data"
    }
   ],
   "source": [
    "plt.scatter(full_df['total_sales'], full_df['new_sales'])\n",
    "plt.xlabel('Total Sales Previous Year')\n",
    "plt.ylabel('Total Sales Next Year')"
   ]
  },
  {
   "cell_type": "code",
   "execution_count": 313,
   "metadata": {},
   "outputs": [
    {
     "data": {
      "text/plain": [
       "<matplotlib.axes._subplots.AxesSubplot at 0x2416fde1910>"
      ]
     },
     "execution_count": 313,
     "metadata": {},
     "output_type": "execute_result"
    },
    {
     "data": {
      "image/png": "[encoded data removed]",
      "text/plain": [
       "<Figure size 432x288 with 1 Axes>"
      ]
     },
     "metadata": {
      "needs_background": "light"
     },
     "output_type": "display_data"
    }
   ],
   "source": [
    "full_df['sales_12M_x'].hist()"
   ]
  },
  {
   "cell_type": "code",
   "execution_count": 314,
   "metadata": {},
   "outputs": [],
   "source": [
    "import numpy as np"
   ]
  },
  {
   "cell_type": "code",
   "execution_count": 315,
   "metadata": {},
   "outputs": [],
   "source": [
    "from sklearn.preprocessing import PowerTransformer"
   ]
  },
  {
   "cell_type": "code",
   "execution_count": 316,
   "metadata": {},
   "outputs": [],
   "source": [
    "pt = PowerTransformer()"
   ]
  },
  {
   "cell_type": "code",
   "execution_count": 317,
   "metadata": {},
   "outputs": [],
   "source": [
    "y = pt.fit_transform(full_df['sales_12M_x'].values.reshape(-1, 1))"
   ]
  },
  {
   "cell_type": "code",
   "execution_count": 318,
   "metadata": {},
   "outputs": [
    {
     "data": {
      "text/plain": [
       "(array([1.000e+00, 1.000e+00, 0.000e+00, 0.000e+00, 1.000e+00, 4.699e+03,\n",
       "        5.800e+01, 4.000e+00, 2.000e+00, 2.000e+00]),\n",
       " array([-23.21330822, -18.82908856, -14.4448689 , -10.06064924,\n",
       "         -5.67642958,  -1.29220991,   3.09200975,   7.47622941,\n",
       "         11.86044907,  16.24466873,  20.62888839]),\n",
       " <a list of 10 Patch objects>)"
      ]
     },
     "execution_count": 318,
     "metadata": {},
     "output_type": "execute_result"
    },
    {
     "data": {
      "image/png": "[encoded data removed]",
      "text/plain": [
       "<Figure size 432x288 with 1 Axes>"
      ]
     },
     "metadata": {
      "needs_background": "light"
     },
     "output_type": "display_data"
    }
   ],
   "source": [
    "plt.hist(y)"
   ]
  },
  {
   "cell_type": "code",
   "execution_count": 319,
   "metadata": {},
   "outputs": [
    {
     "data": {
      "text/plain": [
       "<matplotlib.collections.PathCollection at 0x2416fe133a0>"
      ]
     },
     "execution_count": 319,
     "metadata": {},
     "output_type": "execute_result"
    },
    {
     "data": {
      "image/png": "[encoded data removed]",
      "text/plain": [
       "<Figure size 432x288 with 1 Axes>"
      ]
     },
     "metadata": {
      "needs_background": "light"
     },
     "output_type": "display_data"
    }
   ],
   "source": [
    "plt.scatter(full_df['total_sales'], y)"
   ]
  },
  {
   "cell_type": "code",
   "execution_count": 320,
   "metadata": {},
   "outputs": [
    {
     "data": {
      "text/plain": [
       "Contact ID                                0\n",
       "no_of_sales_12M_1                      5242\n",
       "no_of_Redemption_12M_1                 4644\n",
       "no_of_sales_12M_10K                    7293\n",
       "no_of_Redemption_12M_10K               7029\n",
       "no_of_funds_sold_12M_1                 5242\n",
       "no_of_funds_redeemed_12M_1             4644\n",
       "no_of_fund_sales_12M_10K               7293\n",
       "no_of_funds_Redemption_12M_10K         7029\n",
       "no_of_assetclass_sold_12M_1            5242\n",
       "no_of_assetclass_redeemed_12M_1        4644\n",
       "no_of_assetclass_sales_12M_10K         7293\n",
       "no_of_assetclass_Redemption_12M_10K    7029\n",
       "No_of_fund_curr                        3822\n",
       "No_of_asset_curr                       4426\n",
       "AUM                                     585\n",
       "sales_curr                             7574\n",
       "sales_12M_x                            5237\n",
       "redemption_curr                        7429\n",
       "redemption_12M                         4621\n",
       "new_Fund_added_12M_x                   7310\n",
       "aum_AC_EQUITY                           585\n",
       "aum_AC_FIXED_INCOME_MUNI                585\n",
       "aum_AC_FIXED_INCOME_TAXABLE             585\n",
       "aum_AC_MONEY                            585\n",
       "aum_AC_MULTIPLE                         585\n",
       "aum_AC_PHYSICAL_COMMODITY               585\n",
       "aum_AC_REAL_ESTATE                      585\n",
       "aum_AC_TARGET                           585\n",
       "aum_P_529                               585\n",
       "aum_P_ALT                               585\n",
       "aum_P_CEF                               585\n",
       "aum_P_ETF                               585\n",
       "aum_P_MF                                585\n",
       "aum_P_SMA                               585\n",
       "aum_P_UCITS                             585\n",
       "aum_P_UIT                               585\n",
       "refresh_date_x                            0\n",
       "total_sales                            7706\n",
       "new_sales                              4931\n",
       "new_Fund_added_12M_y                   7484\n",
       "refresh_date_y                            0\n",
       "Channel                                   0\n",
       "Sub channel                               0\n",
       "Firm name                                 0\n",
       "dtype: int64"
      ]
     },
     "execution_count": 320,
     "metadata": {},
     "output_type": "execute_result"
    }
   ],
   "source": [
    "full_df.isna().sum()"
   ]
  },
  {
   "cell_type": "code",
   "execution_count": 321,
   "metadata": {},
   "outputs": [],
   "source": [
    "def zero_filler(x):\n",
    "    if x < 0:\n",
    "        return 0\n",
    "    else:\n",
    "        return x"
   ]
  },
  {
   "cell_type": "code",
   "execution_count": 322,
   "metadata": {},
   "outputs": [],
   "source": [
    "aum_cols = [i for i in full_df.columns if i.startswith('aum')]"
   ]
  },
  {
   "cell_type": "code",
   "execution_count": 323,
   "metadata": {},
   "outputs": [],
   "source": [
    "for col in aum_cols:\n",
    "    full_df[col] = full_df[col].apply(zero_filler)"
   ]
  },
  {
   "cell_type": "code",
   "execution_count": 324,
   "metadata": {},
   "outputs": [
    {
     "name": "stdout",
     "output_type": "stream",
     "text": [
      "<class 'pandas.core.frame.DataFrame'>\n",
      "Int64Index: 10005 entries, 0 to 10004\n",
      "Data columns (total 45 columns):\n",
      " #   Column                               Non-Null Count  Dtype         \n",
      "---  ------                               --------------  -----         \n",
      " 0   Contact ID                           10005 non-null  object        \n",
      " 1   no_of_sales_12M_1                    4763 non-null   float64       \n",
      " 2   no_of_Redemption_12M_1               5361 non-null   float64       \n",
      " 3   no_of_sales_12M_10K                  2712 non-null   float64       \n",
      " 4   no_of_Redemption_12M_10K             2976 non-null   float64       \n",
      " 5   no_of_funds_sold_12M_1               4763 non-null   float64       \n",
      " 6   no_of_funds_redeemed_12M_1           5361 non-null   float64       \n",
      " 7   no_of_fund_sales_12M_10K             2712 non-null   float64       \n",
      " 8   no_of_funds_Redemption_12M_10K       2976 non-null   float64       \n",
      " 9   no_of_assetclass_sold_12M_1          4763 non-null   float64       \n",
      " 10  no_of_assetclass_redeemed_12M_1      5361 non-null   float64       \n",
      " 11  no_of_assetclass_sales_12M_10K       2712 non-null   float64       \n",
      " 12  no_of_assetclass_Redemption_12M_10K  2976 non-null   float64       \n",
      " 13  No_of_fund_curr                      6183 non-null   float64       \n",
      " 14  No_of_asset_curr                     5579 non-null   float64       \n",
      " 15  AUM                                  9420 non-null   float64       \n",
      " 16  sales_curr                           2431 non-null   float64       \n",
      " 17  sales_12M_x                          4768 non-null   float64       \n",
      " 18  redemption_curr                      2576 non-null   float64       \n",
      " 19  redemption_12M                       5384 non-null   float64       \n",
      " 20  new_Fund_added_12M_x                 2695 non-null   float64       \n",
      " 21  aum_AC_EQUITY                        9420 non-null   float64       \n",
      " 22  aum_AC_FIXED_INCOME_MUNI             9420 non-null   float64       \n",
      " 23  aum_AC_FIXED_INCOME_TAXABLE          9420 non-null   float64       \n",
      " 24  aum_AC_MONEY                         9420 non-null   float64       \n",
      " 25  aum_AC_MULTIPLE                      9420 non-null   float64       \n",
      " 26  aum_AC_PHYSICAL_COMMODITY            9420 non-null   float64       \n",
      " 27  aum_AC_REAL_ESTATE                   9420 non-null   float64       \n",
      " 28  aum_AC_TARGET                        9420 non-null   float64       \n",
      " 29  aum_P_529                            9420 non-null   float64       \n",
      " 30  aum_P_ALT                            9420 non-null   float64       \n",
      " 31  aum_P_CEF                            9420 non-null   float64       \n",
      " 32  aum_P_ETF                            9420 non-null   float64       \n",
      " 33  aum_P_MF                             9420 non-null   float64       \n",
      " 34  aum_P_SMA                            9420 non-null   float64       \n",
      " 35  aum_P_UCITS                          9420 non-null   float64       \n",
      " 36  aum_P_UIT                            9420 non-null   float64       \n",
      " 37  refresh_date_x                       10005 non-null  datetime64[ns]\n",
      " 38  total_sales                          2299 non-null   float64       \n",
      " 39  new_sales                            5074 non-null   float64       \n",
      " 40  new_Fund_added_12M_y                 2521 non-null   float64       \n",
      " 41  refresh_date_y                       10005 non-null  datetime64[ns]\n",
      " 42  Channel                              10005 non-null  object        \n",
      " 43  Sub channel                          10005 non-null  object        \n",
      " 44  Firm name                            10005 non-null  object        \n",
      "dtypes: datetime64[ns](2), float64(39), object(4)\n",
      "memory usage: 3.5+ MB\n"
     ]
    }
   ],
   "source": [
    "full_df. info()"
   ]
  },
  {
   "cell_type": "code",
   "execution_count": 325,
   "metadata": {},
   "outputs": [],
   "source": [
    "full_df.fillna(0, inplace=True)"
   ]
  },
  {
   "cell_type": "markdown",
   "metadata": {},
   "source": [
    "# Model Building"
   ]
  },
  {
   "cell_type": "code",
   "execution_count": 326,
   "metadata": {},
   "outputs": [
    {
     "data": {
      "text/plain": [
       "Index(['Contact ID', 'no_of_sales_12M_1', 'no_of_Redemption_12M_1',\n",
       "       'no_of_sales_12M_10K', 'no_of_Redemption_12M_10K',\n",
       "       'no_of_funds_sold_12M_1', 'no_of_funds_redeemed_12M_1',\n",
       "       'no_of_fund_sales_12M_10K', 'no_of_funds_Redemption_12M_10K',\n",
       "       'no_of_assetclass_sold_12M_1', 'no_of_assetclass_redeemed_12M_1',\n",
       "       'no_of_assetclass_sales_12M_10K', 'no_of_assetclass_Redemption_12M_10K',\n",
       "       'No_of_fund_curr', 'No_of_asset_curr', 'AUM', 'sales_curr',\n",
       "       'sales_12M_x', 'redemption_curr', 'redemption_12M',\n",
       "       'new_Fund_added_12M_x', 'aum_AC_EQUITY', 'aum_AC_FIXED_INCOME_MUNI',\n",
       "       'aum_AC_FIXED_INCOME_TAXABLE', 'aum_AC_MONEY', 'aum_AC_MULTIPLE',\n",
       "       'aum_AC_PHYSICAL_COMMODITY', 'aum_AC_REAL_ESTATE', 'aum_AC_TARGET',\n",
       "       'aum_P_529', 'aum_P_ALT', 'aum_P_CEF', 'aum_P_ETF', 'aum_P_MF',\n",
       "       'aum_P_SMA', 'aum_P_UCITS', 'aum_P_UIT', 'refresh_date_x',\n",
       "       'total_sales', 'new_sales', 'new_Fund_added_12M_y', 'refresh_date_y',\n",
       "       'Channel', 'Sub channel', 'Firm name'],\n",
       "      dtype='object')"
      ]
     },
     "execution_count": 326,
     "metadata": {},
     "output_type": "execute_result"
    }
   ],
   "source": [
    "full_df.columns"
   ]
  },
  {
   "cell_type": "markdown",
   "metadata": {},
   "source": [
    "# Feature Selection -Check Correlations and plot against new_sales"
   ]
  },
  {
   "cell_type": "code",
   "execution_count": null,
   "metadata": {},
   "outputs": [],
   "source": []
  },
  {
   "cell_type": "code",
   "execution_count": 327,
   "metadata": {},
   "outputs": [],
   "source": [
    "import pandas as pd\n",
    "import seaborn as sns\n",
    "from sklearn.ensemble import RandomForestRegressor\n",
    "from sklearn.ensemble import AdaBoostRegressor\n",
    "from sklearn.tree import DecisionTreeRegressor\n",
    "from sklearn.linear_model import RidgeCV\n",
    "from sklearn.linear_model import LinearRegression, Ridge, LassoCV, Lasso\n",
    "from sklearn.decomposition import PCA, TruncatedSVD\n",
    "import xgboost as xgb\n",
    "from xgboost import XGBRegressor\n",
    "from sklearn.compose import TransformedTargetRegressor\n",
    "from sklearn.preprocessing import QuantileTransformer\n",
    "from sklearn.model_selection import train_test_split\n",
    "from sklearn.feature_selection import SelectKBest, f_classif\n",
    "from sklearn.model_selection import cross_validate\n",
    "from sklearn.preprocessing import StandardScaler\n",
    "\n",
    "from matplotlib import pyplot"
   ]
  },
  {
   "cell_type": "code",
   "execution_count": 328,
   "metadata": {},
   "outputs": [],
   "source": [
    "# y_train_reg_log = np.log(y_train_reg+1)\n",
    "# y_test_reg_log = np.log(y_test_reg+1)\n",
    "\n",
    "# np.exp(np.log(y_train_reg+1))"
   ]
  },
  {
   "cell_type": "code",
   "execution_count": 329,
   "metadata": {},
   "outputs": [],
   "source": [
    "# ss = StandardScaler()\n",
    "# ss.fit_transform(X_train[['no_of_sales_12M_1', 'no_of_Redemption_12M_1']].fillna(0), y_train_reg)"
   ]
  },
  {
   "cell_type": "code",
   "execution_count": 330,
   "metadata": {},
   "outputs": [],
   "source": [
    "# sub_df = ['total_sales', 'sales_curr', 'no_of_fund_sales_12M_10K',\n",
    "#        'no_of_sales_12M_10K', 'no_of_funds_Redemption_12M_10K',\n",
    "#        'no_of_funds_sold_12M_1', 'no_of_funds_redeemed_12M_1',\n",
    "# #        'no_of_Redemption_12M_10K', 'no_of_assetclass_sales_12M_10K'\n",
    "#        'No_of_fund_curr', 'channels']\n",
    "# sub_df = pd.get_dummies(sub_df)\n",
    "# sub_df"
   ]
  },
  {
   "cell_type": "code",
   "execution_count": 331,
   "metadata": {},
   "outputs": [],
   "source": [
    "# corr = sub_df.corr()\n",
    "# sns.heatmap(sub_df.corr());"
   ]
  },
  {
   "cell_type": "code",
   "execution_count": 332,
   "metadata": {},
   "outputs": [],
   "source": [
    "# sns.heatmap(corr)"
   ]
  },
  {
   "cell_type": "code",
   "execution_count": 333,
   "metadata": {},
   "outputs": [
    {
     "data": {
      "text/plain": [
       "Index(['Contact ID', 'no_of_sales_12M_1', 'no_of_Redemption_12M_1',\n",
       "       'no_of_sales_12M_10K', 'no_of_Redemption_12M_10K',\n",
       "       'no_of_funds_sold_12M_1', 'no_of_funds_redeemed_12M_1',\n",
       "       'no_of_fund_sales_12M_10K', 'no_of_funds_Redemption_12M_10K',\n",
       "       'no_of_assetclass_sold_12M_1', 'no_of_assetclass_redeemed_12M_1',\n",
       "       'no_of_assetclass_sales_12M_10K', 'no_of_assetclass_Redemption_12M_10K',\n",
       "       'No_of_fund_curr', 'No_of_asset_curr', 'AUM', 'sales_curr',\n",
       "       'sales_12M_x', 'redemption_curr', 'redemption_12M',\n",
       "       'new_Fund_added_12M_x', 'aum_AC_EQUITY', 'aum_AC_FIXED_INCOME_MUNI',\n",
       "       'aum_AC_FIXED_INCOME_TAXABLE', 'aum_AC_MONEY', 'aum_AC_MULTIPLE',\n",
       "       'aum_AC_PHYSICAL_COMMODITY', 'aum_AC_REAL_ESTATE', 'aum_AC_TARGET',\n",
       "       'aum_P_529', 'aum_P_ALT', 'aum_P_CEF', 'aum_P_ETF', 'aum_P_MF',\n",
       "       'aum_P_SMA', 'aum_P_UCITS', 'aum_P_UIT', 'refresh_date_x',\n",
       "       'total_sales', 'new_sales', 'new_Fund_added_12M_y', 'refresh_date_y',\n",
       "       'Channel', 'Sub channel', 'Firm name'],\n",
       "      dtype='object')"
      ]
     },
     "execution_count": 333,
     "metadata": {},
     "output_type": "execute_result"
    }
   ],
   "source": [
    "full_df.columns"
   ]
  },
  {
   "cell_type": "code",
   "execution_count": 334,
   "metadata": {},
   "outputs": [],
   "source": [
    "\n",
    "# full_df.to_excel('full_df2.xlsx')\n",
    "\n",
    "# # df2.head(1)\n",
    "\n",
    "# full_df2 = df2\n",
    "\n",
    "# full_df2.fillna(0, inplace=True)\n",
    "\n",
    "# # df[df < 0] = 0\n",
    "\n",
    "# # aum_cols = [i for i in full_df.columns if i.startswith('aum')]\n",
    "\n",
    "# for col in full_df2.columns:\n",
    "#     full_df2[col] = full_df2[col].apply(zero_filler)\n",
    "    \n",
    "# # zero_filler(full_df2)\n",
    "\n",
    "# # full_df2.head(1)\n",
    "\n",
    "\n",
    "# full_df2.to_csv('full_df2.csv')\n",
    "\n",
    "\n",
    "# full_df2 = pd.get_dummies(full_df2)\n",
    "\n",
    "# X = full_df2\n",
    "\n",
    "# y = full_df['new_sales']\n"
   ]
  },
  {
   "cell_type": "code",
   "execution_count": 335,
   "metadata": {},
   "outputs": [
    {
     "data": {
      "text/html": [
       "<div>\n",
       "<style scoped>\n",
       "    .dataframe tbody tr th:only-of-type {\n",
       "        vertical-align: middle;\n",
       "    }\n",
       "\n",
       "    .dataframe tbody tr th {\n",
       "        vertical-align: top;\n",
       "    }\n",
       "\n",
       "    .dataframe thead th {\n",
       "        text-align: right;\n",
       "    }\n",
       "</style>\n",
       "<table border=\"1\" class=\"dataframe\">\n",
       "  <thead>\n",
       "    <tr style=\"text-align: right;\">\n",
       "      <th></th>\n",
       "      <th>total_sales</th>\n",
       "      <th>sales_12M_x</th>\n",
       "      <th>AUM</th>\n",
       "      <th>aum_AC_FIXED_INCOME_MUNI</th>\n",
       "      <th>aum_P_MF</th>\n",
       "      <th>redemption_12M</th>\n",
       "      <th>sales_curr</th>\n",
       "      <th>no_of_sales_12M_10K</th>\n",
       "      <th>no_of_Redemption_12M_10K</th>\n",
       "      <th>redemption_curr</th>\n",
       "      <th>no_of_fund_sales_12M_10K</th>\n",
       "      <th>no_of_funds_Redemption_12M_10K</th>\n",
       "      <th>no_of_assetclass_sales_12M_10K</th>\n",
       "      <th>no_of_funds_redeemed_12M_1</th>\n",
       "      <th>no_of_funds_sold_12M_1</th>\n",
       "      <th>No_of_fund_curr</th>\n",
       "    </tr>\n",
       "  </thead>\n",
       "  <tbody>\n",
       "    <tr>\n",
       "      <th>0</th>\n",
       "      <td>19932.0</td>\n",
       "      <td>19682.0</td>\n",
       "      <td>237480.11</td>\n",
       "      <td>284737.93</td>\n",
       "      <td>122866.04</td>\n",
       "      <td>-102496.165</td>\n",
       "      <td>250.0</td>\n",
       "      <td>0.0</td>\n",
       "      <td>1.0</td>\n",
       "      <td>-1496.745</td>\n",
       "      <td>0.0</td>\n",
       "      <td>1.0</td>\n",
       "      <td>0.0</td>\n",
       "      <td>5.0</td>\n",
       "      <td>5.0</td>\n",
       "      <td>8.0</td>\n",
       "    </tr>\n",
       "  </tbody>\n",
       "</table>\n",
       "</div>"
      ],
      "text/plain": [
       "   total_sales  sales_12M_x        AUM  aum_AC_FIXED_INCOME_MUNI   aum_P_MF  \\\n",
       "0      19932.0      19682.0  237480.11                 284737.93  122866.04   \n",
       "\n",
       "   redemption_12M  sales_curr  no_of_sales_12M_10K  no_of_Redemption_12M_10K  \\\n",
       "0     -102496.165       250.0                  0.0                       1.0   \n",
       "\n",
       "   redemption_curr  no_of_fund_sales_12M_10K  no_of_funds_Redemption_12M_10K  \\\n",
       "0        -1496.745                       0.0                             1.0   \n",
       "\n",
       "   no_of_assetclass_sales_12M_10K  no_of_funds_redeemed_12M_1  \\\n",
       "0                             0.0                         5.0   \n",
       "\n",
       "   no_of_funds_sold_12M_1  No_of_fund_curr  \n",
       "0                     5.0              8.0  "
      ]
     },
     "execution_count": 335,
     "metadata": {},
     "output_type": "execute_result"
    }
   ],
   "source": [
    "X = full_df[['total_sales', 'sales_12M_x', 'AUM', 'aum_AC_FIXED_INCOME_MUNI', 'aum_P_MF', \n",
    "             'redemption_12M', 'sales_curr', 'no_of_sales_12M_10K', 'no_of_Redemption_12M_10K',  \n",
    "             'redemption_curr', 'no_of_fund_sales_12M_10K', 'no_of_funds_Redemption_12M_10K', \n",
    "             'no_of_assetclass_sales_12M_10K', 'no_of_funds_redeemed_12M_1', 'no_of_funds_sold_12M_1', 'No_of_fund_curr']]\n",
    "\n",
    "y = full_df['new_sales']\n",
    "\n",
    "# full_df2 = pd.read_csv('full_df2.csv')\n",
    "# X = full_df2\n",
    "\n",
    "\n",
    "# y = full_df['new_sales']\n",
    "X.head(1)"
   ]
  },
  {
   "cell_type": "markdown",
   "metadata": {},
   "source": [
    "# TTL with Optimized X Features from RFE"
   ]
  },
  {
   "cell_type": "code",
   "execution_count": null,
   "metadata": {},
   "outputs": [],
   "source": []
  },
  {
   "cell_type": "code",
   "execution_count": 673,
   "metadata": {},
   "outputs": [
    {
     "data": {
      "text/plain": [
       "TransformedTargetRegressor(regressor=GradientBoostingRegressor(),\n",
       "                           transformer=QuantileTransformer(output_distribution='normal'))"
      ]
     },
     "execution_count": 673,
     "metadata": {},
     "output_type": "execute_result"
    }
   ],
   "source": [
    "            \n",
    "# ---------------------------------------------------------------------\n",
    "from sklearn.linear_model import LinearRegression\n",
    "from sklearn.ensemble import GradientBoostingRegressor\n",
    "from sklearn.ensemble import AdaBoostRegressor\n",
    "transformer = QuantileTransformer(output_distribution='normal')\n",
    "regressor = GradientBoostingRegressor()\n",
    "regr = TransformedTargetRegressor(regressor=regressor,\n",
    "                                 transformer=transformer)\n",
    "# X_train, X_test, y_train, y_test = train_test_split(X, y, random_state=0)\n",
    "\n",
    "X_train, X_test, y_train, y_test = train_test_split(X, y, test_size=0.30, random_state=42)\n",
    "\n",
    "regr.fit(X_train, y_train)\n",
    "\n",
    "\n",
    "# ---------------------------------------------------------------------\n"
   ]
  },
  {
   "cell_type": "code",
   "execution_count": 674,
   "metadata": {},
   "outputs": [
    {
     "data": {
      "text/plain": [
       "0.5727550731146471"
      ]
     },
     "execution_count": 674,
     "metadata": {},
     "output_type": "execute_result"
    }
   ],
   "source": [
    "regr.score(X_train, y_train)"
   ]
  },
  {
   "cell_type": "code",
   "execution_count": 675,
   "metadata": {},
   "outputs": [
    {
     "data": {
      "text/plain": [
       "0.47477542892569846"
      ]
     },
     "execution_count": 675,
     "metadata": {},
     "output_type": "execute_result"
    }
   ],
   "source": [
    "regr.score(X_test, y_test)"
   ]
  },
  {
   "cell_type": "code",
   "execution_count": 676,
   "metadata": {},
   "outputs": [],
   "source": [
    "adviser_lookup = {idx: contact_id for idx, contact_id in enumerate(df['CONTACT_ID'])}"
   ]
  },
  {
   "cell_type": "code",
   "execution_count": 677,
   "metadata": {},
   "outputs": [
    {
     "data": {
      "text/plain": [
       "'85201142414218755394'"
      ]
     },
     "execution_count": 677,
     "metadata": {},
     "output_type": "execute_result"
    }
   ],
   "source": [
    "adviser_lookup[123]"
   ]
  },
  {
   "cell_type": "code",
   "execution_count": 678,
   "metadata": {},
   "outputs": [],
   "source": [
    "def modified_log(x):\n",
    "    x = np.where(x<0, 0, x)\n",
    "    return np.log(x, where=x>0)"
   ]
  },
  {
   "cell_type": "code",
   "execution_count": 679,
   "metadata": {},
   "outputs": [],
   "source": [
    "def modified_exp(x):\n",
    "    x = np.where(x>15, 15, x)\n",
    "    return np.expm1(x)"
   ]
  },
  {
   "cell_type": "code",
   "execution_count": 680,
   "metadata": {},
   "outputs": [],
   "source": [
    "# from sklearn.compose import TransformedTargetRegressor"
   ]
  },
  {
   "cell_type": "code",
   "execution_count": 681,
   "metadata": {},
   "outputs": [],
   "source": [
    "# ttr = TransformedTargetRegressor(\n",
    "#         RandomForestRegressor(), \n",
    "#         func=np.log1p, \n",
    "#         inverse_func=modified_exp, \n",
    "#         check_inverse=False\n",
    "# )"
   ]
  },
  {
   "cell_type": "code",
   "execution_count": 682,
   "metadata": {},
   "outputs": [
    {
     "data": {
      "text/plain": [
       "2818    10467.055037\n",
       "4382        0.000000\n",
       "7713        0.000000\n",
       "8166        0.000000\n",
       "4598        0.000000\n",
       "            ...     \n",
       "4149        0.000000\n",
       "1586        0.000000\n",
       "8874        0.000000\n",
       "9320        0.000000\n",
       "1074    39886.935784\n",
       "Length: 3002, dtype: float64"
      ]
     },
     "execution_count": 682,
     "metadata": {},
     "output_type": "execute_result"
    }
   ],
   "source": [
    "test_preds = pd.Series(regr.predict(X_test), index=y_test.index)\n",
    "test_preds"
   ]
  },
  {
   "cell_type": "code",
   "execution_count": 683,
   "metadata": {},
   "outputs": [],
   "source": [
    "# regr_preds = test_preds.to_frame()\n",
    "# regr_preds.head(1)\n",
    "# regr_preds.to_csv('regr_preds')"
   ]
  },
  {
   "cell_type": "code",
   "execution_count": 684,
   "metadata": {},
   "outputs": [],
   "source": [
    "# new_preds = pd.read_csv('regr_preds.csv')"
   ]
  },
  {
   "cell_type": "code",
   "execution_count": 685,
   "metadata": {},
   "outputs": [],
   "source": [
    "# regr_preds.columns"
   ]
  },
  {
   "cell_type": "code",
   "execution_count": 698,
   "metadata": {},
   "outputs": [
    {
     "data": {
      "text/plain": [
       "TransformedTargetRegressor(regressor=AdaBoostRegressor(base_estimator=GradientBoostingRegressor(),\n",
       "                                                       n_estimators=15),\n",
       "                           transformer=QuantileTransformer(output_distribution='normal'))"
      ]
     },
     "execution_count": 698,
     "metadata": {},
     "output_type": "execute_result"
    }
   ],
   "source": [
    "transformer = QuantileTransformer(output_distribution='normal')\n",
    "regro = TransformedTargetRegressor(\n",
    "        AdaBoostRegressor(base_estimator=GradientBoostingRegressor(), n_estimators=15), transformer=transformer,     \n",
    ")\n",
    "\n",
    "X_train, X_test, y_train, y_test = train_test_split(X, y, test_size=0.30, random_state=28)\n",
    "\n",
    "regro.fit(X_train, y_train)"
   ]
  },
  {
   "cell_type": "code",
   "execution_count": 699,
   "metadata": {},
   "outputs": [
    {
     "data": {
      "text/plain": [
       "0.5236386595386"
      ]
     },
     "execution_count": 699,
     "metadata": {},
     "output_type": "execute_result"
    }
   ],
   "source": [
    "regro.score(X_train, y_train)"
   ]
  },
  {
   "cell_type": "code",
   "execution_count": 700,
   "metadata": {},
   "outputs": [
    {
     "data": {
      "text/plain": [
       "0.4961909738363419"
      ]
     },
     "execution_count": 700,
     "metadata": {},
     "output_type": "execute_result"
    }
   ],
   "source": [
    "regro.score(X_test, y_test)"
   ]
  },
  {
   "cell_type": "code",
   "execution_count": 701,
   "metadata": {},
   "outputs": [],
   "source": [
    "# import pandas as pd\n",
    "# regr_preds['Decile'] = pd.qcut(new_preds['preds'], 10, \n",
    "#                                labels = False) \n",
    "# pd.qcut(new_preds[\"preds\"], 20, retbins=True, labels=False)\n",
    "# # new_preds['Decile'] = pd.qcut(new_preds['preds'], 5) \n",
    "def output_deciles(model, X, y):\n",
    "    results = pd.DataFrame(model.predict(X), index=y.index, columns=['prediction'])\n",
    "    results['actual'] = y.values\n",
    "    results['deciles'] = pd.qcut(results['prediction'], 18, labels=False, duplicates = 'drop')\n",
    "    results['contact_id'] = results.index.map(adviser_lookup)\n",
    "    return results\n",
    "    "
   ]
  },
  {
   "cell_type": "code",
   "execution_count": 353,
   "metadata": {},
   "outputs": [],
   "source": [
    "# test_preds['prediction'].replace(to_replace=0, value=np.nan, inplace=True)"
   ]
  },
  {
   "cell_type": "code",
   "execution_count": 702,
   "metadata": {},
   "outputs": [],
   "source": [
    "result_df = output_deciles(regro, X_test, y_test)\n",
    "result_df\n",
    "# return pd.qcut(x.rank(method='first'), quantiles, labels=False) + 1\n",
    "# print(regr_preds)\n",
    "result_df.to_csv('final_preds_48-50.csv')"
   ]
  },
  {
   "cell_type": "code",
   "execution_count": 703,
   "metadata": {},
   "outputs": [],
   "source": [
    "# new_preds.to_csv('last_preds.csv')"
   ]
  },
  {
   "cell_type": "code",
   "execution_count": 704,
   "metadata": {},
   "outputs": [
    {
     "data": {
      "image/png": "[encoded data removed]",
      "text/plain": [
       "<Figure size 432x288 with 1 Axes>"
      ]
     },
     "metadata": {
      "needs_background": "light"
     },
     "output_type": "display_data"
    }
   ],
   "source": [
    "result_df.drop(columns='contact_id').groupby('deciles').sum().sort_index(ascending=False).plot(kind='bar');"
   ]
  },
  {
   "cell_type": "code",
   "execution_count": 705,
   "metadata": {},
   "outputs": [
    {
     "data": {
      "text/html": [
       "<div>\n",
       "<style scoped>\n",
       "    .dataframe tbody tr th:only-of-type {\n",
       "        vertical-align: middle;\n",
       "    }\n",
       "\n",
       "    .dataframe tbody tr th {\n",
       "        vertical-align: top;\n",
       "    }\n",
       "\n",
       "    .dataframe thead th {\n",
       "        text-align: right;\n",
       "    }\n",
       "</style>\n",
       "<table border=\"1\" class=\"dataframe\">\n",
       "  <thead>\n",
       "    <tr style=\"text-align: right;\">\n",
       "      <th></th>\n",
       "      <th>prediction</th>\n",
       "      <th>actual</th>\n",
       "      <th>deciles</th>\n",
       "      <th>contact_id</th>\n",
       "    </tr>\n",
       "  </thead>\n",
       "  <tbody>\n",
       "    <tr>\n",
       "      <th>3315</th>\n",
       "      <td>7.509202e+05</td>\n",
       "      <td>1.395208e+05</td>\n",
       "      <td>9</td>\n",
       "      <td>4347257</td>\n",
       "    </tr>\n",
       "    <tr>\n",
       "      <th>4647</th>\n",
       "      <td>5.596258e+05</td>\n",
       "      <td>8.866758e+05</td>\n",
       "      <td>9</td>\n",
       "      <td>85201150894107142735</td>\n",
       "    </tr>\n",
       "    <tr>\n",
       "      <th>549</th>\n",
       "      <td>6.658540e+05</td>\n",
       "      <td>3.891970e+05</td>\n",
       "      <td>9</td>\n",
       "      <td>4487709</td>\n",
       "    </tr>\n",
       "    <tr>\n",
       "      <th>3578</th>\n",
       "      <td>2.250139e+06</td>\n",
       "      <td>3.373430e+06</td>\n",
       "      <td>9</td>\n",
       "      <td>4475981</td>\n",
       "    </tr>\n",
       "    <tr>\n",
       "      <th>4783</th>\n",
       "      <td>7.252781e+05</td>\n",
       "      <td>5.914581e+05</td>\n",
       "      <td>9</td>\n",
       "      <td>1662246</td>\n",
       "    </tr>\n",
       "    <tr>\n",
       "      <th>...</th>\n",
       "      <td>...</td>\n",
       "      <td>...</td>\n",
       "      <td>...</td>\n",
       "      <td>...</td>\n",
       "    </tr>\n",
       "    <tr>\n",
       "      <th>431</th>\n",
       "      <td>1.342639e+06</td>\n",
       "      <td>1.736762e+06</td>\n",
       "      <td>9</td>\n",
       "      <td>0175678</td>\n",
       "    </tr>\n",
       "    <tr>\n",
       "      <th>2832</th>\n",
       "      <td>7.692576e+05</td>\n",
       "      <td>1.098039e+06</td>\n",
       "      <td>9</td>\n",
       "      <td>4355838</td>\n",
       "    </tr>\n",
       "    <tr>\n",
       "      <th>8373</th>\n",
       "      <td>6.692764e+05</td>\n",
       "      <td>2.353988e+05</td>\n",
       "      <td>9</td>\n",
       "      <td>0057334</td>\n",
       "    </tr>\n",
       "    <tr>\n",
       "      <th>71</th>\n",
       "      <td>1.031389e+06</td>\n",
       "      <td>1.299654e+06</td>\n",
       "      <td>9</td>\n",
       "      <td>4361397</td>\n",
       "    </tr>\n",
       "    <tr>\n",
       "      <th>4877</th>\n",
       "      <td>8.711155e+05</td>\n",
       "      <td>1.331576e+06</td>\n",
       "      <td>9</td>\n",
       "      <td>4339090</td>\n",
       "    </tr>\n",
       "  </tbody>\n",
       "</table>\n",
       "<p>167 rows × 4 columns</p>\n",
       "</div>"
      ],
      "text/plain": [
       "        prediction        actual  deciles            contact_id\n",
       "3315  7.509202e+05  1.395208e+05        9               4347257\n",
       "4647  5.596258e+05  8.866758e+05        9  85201150894107142735\n",
       "549   6.658540e+05  3.891970e+05        9               4487709\n",
       "3578  2.250139e+06  3.373430e+06        9               4475981\n",
       "4783  7.252781e+05  5.914581e+05        9               1662246\n",
       "...            ...           ...      ...                   ...\n",
       "431   1.342639e+06  1.736762e+06        9               0175678\n",
       "2832  7.692576e+05  1.098039e+06        9               4355838\n",
       "8373  6.692764e+05  2.353988e+05        9               0057334\n",
       "71    1.031389e+06  1.299654e+06        9               4361397\n",
       "4877  8.711155e+05  1.331576e+06        9               4339090\n",
       "\n",
       "[167 rows x 4 columns]"
      ]
     },
     "execution_count": 705,
     "metadata": {},
     "output_type": "execute_result"
    }
   ],
   "source": [
    "result_df[result_df['deciles'] == 9]"
   ]
  },
  {
   "cell_type": "code",
   "execution_count": null,
   "metadata": {},
   "outputs": [],
   "source": []
  },
  {
   "cell_type": "markdown",
   "metadata": {},
   "source": [
    "# GridSearchCV with Optimized X Features from RFE"
   ]
  },
  {
   "cell_type": "markdown",
   "metadata": {},
   "source": [
    "# GS DecisionTreeRegressor"
   ]
  },
  {
   "cell_type": "code",
   "execution_count": 358,
   "metadata": {},
   "outputs": [
    {
     "data": {
      "text/plain": [
       "DecisionTreeRegressor()"
      ]
     },
     "execution_count": 358,
     "metadata": {},
     "output_type": "execute_result"
    }
   ],
   "source": [
    "dtree=DecisionTreeRegressor()\n",
    "dtree.fit(X_train, y_train)"
   ]
  },
  {
   "cell_type": "code",
   "execution_count": 359,
   "metadata": {},
   "outputs": [
    {
     "data": {
      "text/plain": [
       "0.8921405446196274"
      ]
     },
     "execution_count": 359,
     "metadata": {},
     "output_type": "execute_result"
    }
   ],
   "source": [
    "dtree.score(X_train,y_train)"
   ]
  },
  {
   "cell_type": "code",
   "execution_count": 360,
   "metadata": {},
   "outputs": [
    {
     "data": {
      "text/plain": [
       "-0.10218359339000527"
      ]
     },
     "execution_count": 360,
     "metadata": {},
     "output_type": "execute_result"
    }
   ],
   "source": [
    "dtree.score(X_test,y_test)"
   ]
  },
  {
   "cell_type": "code",
   "execution_count": 361,
   "metadata": {},
   "outputs": [
    {
     "data": {
      "text/plain": [
       "GridSearchCV(estimator=DecisionTreeRegressor(),\n",
       "             param_grid={'max_depth': [3, 4, 5, 6]})"
      ]
     },
     "execution_count": 361,
     "metadata": {},
     "output_type": "execute_result"
    }
   ],
   "source": [
    "from sklearn.model_selection import GridSearchCV\n",
    "params = {'max_depth': [3,4,5,6]}\n",
    "grid=GridSearchCV(dtree, param_grid=params)\n",
    "grid.fit(X_train, y_train)"
   ]
  },
  {
   "cell_type": "code",
   "execution_count": 362,
   "metadata": {},
   "outputs": [
    {
     "data": {
      "text/plain": [
       "0.5152234539284972"
      ]
     },
     "execution_count": 362,
     "metadata": {},
     "output_type": "execute_result"
    }
   ],
   "source": [
    "grid.score(X_train,y_train)"
   ]
  },
  {
   "cell_type": "code",
   "execution_count": 363,
   "metadata": {},
   "outputs": [
    {
     "data": {
      "text/plain": [
       "0.1621166891939091"
      ]
     },
     "execution_count": 363,
     "metadata": {},
     "output_type": "execute_result"
    }
   ],
   "source": [
    "grid.score(X_test, y_test)"
   ]
  },
  {
   "cell_type": "markdown",
   "metadata": {},
   "source": [
    "# Ensemble Regression Models"
   ]
  },
  {
   "cell_type": "code",
   "execution_count": 364,
   "metadata": {},
   "outputs": [],
   "source": [
    "from sklearn.ensemble import GradientBoostingRegressor"
   ]
  },
  {
   "cell_type": "code",
   "execution_count": 365,
   "metadata": {},
   "outputs": [],
   "source": [
    "gboost = GradientBoostingRegressor()\n",
    "ada = AdaBoostRegressor()\n",
    "forest = RandomForestRegressor()\n",
    "dtree = DecisionTreeRegressor()\n",
    "xgb = XGBRegressor()"
   ]
  },
  {
   "cell_type": "code",
   "execution_count": 366,
   "metadata": {},
   "outputs": [
    {
     "data": {
      "text/plain": [
       "0.881375217656173"
      ]
     },
     "execution_count": 366,
     "metadata": {},
     "output_type": "execute_result"
    }
   ],
   "source": [
    "xgb = XGBRegressor()\n",
    "xgb.fit(X_train, y_train)\n",
    "xgb.score(X_train, y_train)"
   ]
  },
  {
   "cell_type": "code",
   "execution_count": 367,
   "metadata": {},
   "outputs": [
    {
     "data": {
      "text/plain": [
       "0.29919597671781606"
      ]
     },
     "execution_count": 367,
     "metadata": {},
     "output_type": "execute_result"
    }
   ],
   "source": [
    "xgb.score(X_test, y_test)"
   ]
  },
  {
   "cell_type": "code",
   "execution_count": 368,
   "metadata": {},
   "outputs": [
    {
     "data": {
      "text/plain": [
       "0.7308071150877475"
      ]
     },
     "execution_count": 368,
     "metadata": {},
     "output_type": "execute_result"
    }
   ],
   "source": [
    "gboost.fit(X_train, y_train)\n",
    "gboost.score(X_train, y_train)"
   ]
  },
  {
   "cell_type": "code",
   "execution_count": 369,
   "metadata": {},
   "outputs": [
    {
     "data": {
      "text/plain": [
       "0.3285529446352885"
      ]
     },
     "execution_count": 369,
     "metadata": {},
     "output_type": "execute_result"
    }
   ],
   "source": [
    "gboost.score(X_test, y_test)\n"
   ]
  },
  {
   "cell_type": "code",
   "execution_count": 370,
   "metadata": {},
   "outputs": [
    {
     "data": {
      "text/plain": [
       "0.8296596271142693"
      ]
     },
     "execution_count": 370,
     "metadata": {},
     "output_type": "execute_result"
    }
   ],
   "source": [
    "\n",
    "forest.fit(X_train, y_train)\n",
    "forest.score(X_train, y_train)"
   ]
  },
  {
   "cell_type": "code",
   "execution_count": 371,
   "metadata": {},
   "outputs": [
    {
     "data": {
      "text/plain": [
       "0.3562878019202925"
      ]
     },
     "execution_count": 371,
     "metadata": {},
     "output_type": "execute_result"
    }
   ],
   "source": [
    "forest.score(X_test, y_test)"
   ]
  },
  {
   "cell_type": "code",
   "execution_count": 372,
   "metadata": {},
   "outputs": [],
   "source": [
    "params = {'n_estimators': [50, 100, 500],\n",
    "         'max_depth': [2,3,4,5,6,7]}"
   ]
  },
  {
   "cell_type": "code",
   "execution_count": 373,
   "metadata": {},
   "outputs": [
    {
     "data": {
      "text/plain": [
       "GridSearchCV(estimator=RandomForestRegressor(),\n",
       "             param_grid={'max_depth': [2, 3, 4, 5, 6, 7],\n",
       "                         'n_estimators': [50, 100, 500]})"
      ]
     },
     "execution_count": 373,
     "metadata": {},
     "output_type": "execute_result"
    }
   ],
   "source": [
    "fgrid = GridSearchCV(forest, param_grid = params)\n",
    "fgrid.fit(X_train, y_train)"
   ]
  },
  {
   "cell_type": "code",
   "execution_count": 374,
   "metadata": {},
   "outputs": [
    {
     "data": {
      "text/plain": [
       "0.7245754923201844"
      ]
     },
     "execution_count": 374,
     "metadata": {},
     "output_type": "execute_result"
    }
   ],
   "source": [
    "fgrid.score(X_train, y_train)"
   ]
  },
  {
   "cell_type": "code",
   "execution_count": 375,
   "metadata": {},
   "outputs": [
    {
     "data": {
      "text/plain": [
       "0.3462681814617671"
      ]
     },
     "execution_count": 375,
     "metadata": {},
     "output_type": "execute_result"
    }
   ],
   "source": [
    " fgrid.score(X_test, y_test)"
   ]
  },
  {
   "cell_type": "markdown",
   "metadata": {},
   "source": [
    "# Feature Selection"
   ]
  },
  {
   "cell_type": "markdown",
   "metadata": {},
   "source": [
    "# SelectKBest"
   ]
  },
  {
   "cell_type": "code",
   "execution_count": 706,
   "metadata": {},
   "outputs": [
    {
     "name": "stdout",
     "output_type": "stream",
     "text": [
      "                        Feat_names     F_Scores\n",
      "0                      total_sales  3621.503634\n",
      "7              no_of_sales_12M_10K  3014.951210\n",
      "1                      sales_12M_x  2948.909098\n",
      "4                         aum_P_MF  2509.800004\n",
      "8         no_of_Redemption_12M_10K  2151.470165\n",
      "6                       sales_curr  1756.248014\n",
      "11  no_of_funds_Redemption_12M_10K  1731.636947\n",
      "10        no_of_fund_sales_12M_10K  1593.738234\n",
      "3         aum_AC_FIXED_INCOME_MUNI  1558.198214\n",
      "5                   redemption_12M  1542.653160\n",
      "9                  redemption_curr  1016.063623\n",
      "13      no_of_funds_redeemed_12M_1  1005.306746\n",
      "14          no_of_funds_sold_12M_1   914.186555\n",
      "15                 No_of_fund_curr   835.296221\n",
      "2                              AUM   726.690814\n",
      "12  no_of_assetclass_sales_12M_10K   710.399403\n"
     ]
    }
   ],
   "source": [
    "import pandas as pd\n",
    "from sklearn.feature_selection import SelectKBest, f_classif\n",
    "from sklearn.feature_selection import f_regression\n",
    "from matplotlib import pyplot\n",
    "# Suppose, we select 5 features with top 5 scores\n",
    "# selector = SelectKBest(f_classif, k = 30)\n",
    "selector = SelectKBest(score_func=f_regression, k='all')\n",
    "# #New dataframe with the selected features for later use in the . fit()\n",
    "fit_xy = selector.fit_transform(X_train, y_train)\n",
    "# X_new = selector.fit_transform(X_train_prepared, y_train_reg)\n",
    "# transform train input data\n",
    "X_train_fs = selector.transform(X_train)\n",
    "# transform test input data\n",
    "X_test_fs = selector.transform(X_test)\n",
    "names = X_train.columns.values[selector.get_support()]\n",
    "scores = selector.scores_[selector.get_support()]\n",
    "names_scores = list(zip(names, scores))\n",
    "ns_df = pd.DataFrame(data = names_scores, columns=['Feat_names', 'F_Scores'])\n",
    "#Sort the dataframe for better visualization\n",
    "ns_df_sorted = ns_df.sort_values(['F_Scores', 'Feat_names'], ascending = [False, True])\n",
    "print(ns_df_sorted)\n"
   ]
  },
  {
   "cell_type": "markdown",
   "metadata": {},
   "source": [
    "# RFE"
   ]
  },
  {
   "cell_type": "code",
   "execution_count": 377,
   "metadata": {},
   "outputs": [],
   "source": [
    "from sklearn.feature_selection import RFE\n",
    "\n",
    "# model = AdaBoostRegressor()\n",
    "# #Initializing RFE model\n",
    "# rfe = RFE(model, 7)\n",
    "# #Transforming data using RFE\n",
    "# X_rfe = rfe.fit_transform(X,y)  \n",
    "# #Fitting the data to model\n",
    "# model.fit(X_rfe,y)\n",
    "# print(rfe.support_)\n",
    "# print(rfe.ranking_)\n",
    "\n",
    "# # no of features\n",
    "# nof_list=np.arange(1,13)            \n",
    "# high_score=0\n",
    "# #Variable to store the optimum features\n",
    "# nof=0           \n",
    "# score_list =[]\n",
    "# for n in range(len(nof_list)):\n",
    "#     X_train, X_test, y_train, y_test = train_test_split(X,y, test_size = 0.3, random_state = 0)\n",
    "#     model = AdaBoostRegressor()\n",
    "#     rfe = RFE(model,nof_list[n])\n",
    "#     X_train_rfe = rfe.fit_transform(X_train,y_train)\n",
    "#     X_test_rfe = rfe.transform(X_test)\n",
    "#     model.fit(X_train_rfe,y_train)\n",
    "#     score = model.score(X_test_rfe,y_test)\n",
    "#     score_list.append(score)\n",
    "#     if(score>high_score):\n",
    "#         high_score = score\n",
    "#         nof = nof_list[n]\n",
    "# print(\"Optimum number of features: %d\" %nof)\n",
    "# print(\"Score with %d features: %f\" % (nof, high_score))\n",
    "\n",
    "# cols = list(X_train.columns)\n",
    "# model = AdaBoostRegressor()\n",
    "# #Initializing RFE model\n",
    "# rfe = RFE(model, 5)             \n",
    "# #Transforming data using RFE\n",
    "# X_rfe = rfe.fit_transform(X_train,y_train)  \n",
    "# #Fitting the data to model\n",
    "# model.fit(X_rfe,y_train)              \n",
    "# temp = pd.Series(rfe.support_,index = cols)\n",
    "# selected_features_rfe = temp[temp==True].index\n",
    "# print(selected_features_rfe)   \n"
   ]
  },
  {
   "cell_type": "code",
   "execution_count": 378,
   "metadata": {},
   "outputs": [],
   "source": [
    "from sklearn.feature_selection import RFE\n",
    "# from sklearn.linear_model import LinearRegression\n",
    "\n",
    "# model = RidgeCV()\n",
    "# #Initializing RFE model\n",
    "# rfe = RFE(model, 7)\n",
    "# #Transforming data using RFE\n",
    "# X_rfe = rfe.fit_transform(X,y)  \n",
    "# #Fitting the data to model\n",
    "# model.fit(X_rfe,y)\n",
    "# print(rfe.support_)\n",
    "# print(rfe.ranking_)\n",
    "\n",
    "# # no of features\n",
    "# nof_list=np.arange(1,13)            \n",
    "# high_score=0\n",
    "# #Variable to store the optimum features\n",
    "# nof=0           \n",
    "# score_list =[]\n",
    "# for n in range(len(nof_list)):\n",
    "#     X_train, X_test, y_train, y_test = train_test_split(X,y, test_size = 0.3, random_state = 0)\n",
    "#     model = DecisionTreeRegressor()\n",
    "#     rfe = RFE(model,nof_list[n])\n",
    "#     X_train_rfe = rfe.fit_transform(X_train,y_train)\n",
    "#     X_test_rfe = rfe.transform(X_test)\n",
    "#     model.fit(X_train_rfe,y_train)\n",
    "#     score = model.score(X_test_rfe,y_test)\n",
    "#     score_list.append(score)\n",
    "#     if(score>high_score):\n",
    "#         high_score = score\n",
    "#         nof = nof_list[n]\n",
    "# print(\"Optimum number of features: %d\" %nof)\n",
    "# print(\"Score with %d features: %f\" % (nof, high_score))\n",
    "\n",
    "# cols = list(X.columns)\n",
    "# model = DecisionTreeRegressor()\n",
    "# #Initializing RFE model\n",
    "# rfe = RFE(model, 1)             \n",
    "# #Transforming data using RFE\n",
    "# X_rfe = rfe.fit_transform(X,y)  \n",
    "# #Fitting the data to model\n",
    "# model.fit(X_rfe,y)              \n",
    "# temp = pd.Series(rfe.support_,index = cols)\n",
    "# selected_features_rfe = temp[temp==True].index\n",
    "# print(selected_features_rfe)"
   ]
  },
  {
   "cell_type": "code",
   "execution_count": null,
   "metadata": {},
   "outputs": [],
   "source": []
  },
  {
   "cell_type": "code",
   "execution_count": 379,
   "metadata": {},
   "outputs": [
    {
     "data": {
      "image/png": "[encoded data removed]",
      "text/plain": [
       "<Figure size 432x288 with 2 Axes>"
      ]
     },
     "metadata": {
      "needs_background": "light"
     },
     "output_type": "display_data"
    }
   ],
   "source": [
    "# full_df.corr()\n",
    "# sns.heatmap(full_df.corr());\n",
    "heatmap = sns.heatmap(full_df.corr()[['new_sales']].sort_values(by='new_sales', ascending=False))"
   ]
  },
  {
   "cell_type": "code",
   "execution_count": 380,
   "metadata": {},
   "outputs": [
    {
     "data": {
      "text/html": [
       "<div>\n",
       "<style scoped>\n",
       "    .dataframe tbody tr th:only-of-type {\n",
       "        vertical-align: middle;\n",
       "    }\n",
       "\n",
       "    .dataframe tbody tr th {\n",
       "        vertical-align: top;\n",
       "    }\n",
       "\n",
       "    .dataframe thead th {\n",
       "        text-align: right;\n",
       "    }\n",
       "</style>\n",
       "<table border=\"1\" class=\"dataframe\">\n",
       "  <thead>\n",
       "    <tr style=\"text-align: right;\">\n",
       "      <th></th>\n",
       "      <th>new_sales</th>\n",
       "    </tr>\n",
       "  </thead>\n",
       "  <tbody>\n",
       "    <tr>\n",
       "      <th>new_sales</th>\n",
       "      <td>1.000000</td>\n",
       "    </tr>\n",
       "    <tr>\n",
       "      <th>total_sales</th>\n",
       "      <td>0.670998</td>\n",
       "    </tr>\n",
       "    <tr>\n",
       "      <th>aum_P_MF</th>\n",
       "      <td>0.585027</td>\n",
       "    </tr>\n",
       "    <tr>\n",
       "      <th>sales_12M_x</th>\n",
       "      <td>0.571367</td>\n",
       "    </tr>\n",
       "    <tr>\n",
       "      <th>aum_AC_FIXED_INCOME_MUNI</th>\n",
       "      <td>0.553905</td>\n",
       "    </tr>\n",
       "    <tr>\n",
       "      <th>AUM</th>\n",
       "      <td>0.511086</td>\n",
       "    </tr>\n",
       "    <tr>\n",
       "      <th>sales_curr</th>\n",
       "      <td>0.458098</td>\n",
       "    </tr>\n",
       "    <tr>\n",
       "      <th>no_of_fund_sales_12M_10K</th>\n",
       "      <td>0.398583</td>\n",
       "    </tr>\n",
       "    <tr>\n",
       "      <th>no_of_sales_12M_10K</th>\n",
       "      <td>0.380308</td>\n",
       "    </tr>\n",
       "    <tr>\n",
       "      <th>no_of_funds_Redemption_12M_10K</th>\n",
       "      <td>0.375622</td>\n",
       "    </tr>\n",
       "    <tr>\n",
       "      <th>no_of_funds_sold_12M_1</th>\n",
       "      <td>0.313874</td>\n",
       "    </tr>\n",
       "    <tr>\n",
       "      <th>no_of_funds_redeemed_12M_1</th>\n",
       "      <td>0.312357</td>\n",
       "    </tr>\n",
       "    <tr>\n",
       "      <th>no_of_Redemption_12M_10K</th>\n",
       "      <td>0.302338</td>\n",
       "    </tr>\n",
       "    <tr>\n",
       "      <th>no_of_assetclass_sales_12M_10K</th>\n",
       "      <td>0.300077</td>\n",
       "    </tr>\n",
       "    <tr>\n",
       "      <th>No_of_fund_curr</th>\n",
       "      <td>0.300006</td>\n",
       "    </tr>\n",
       "    <tr>\n",
       "      <th>aum_AC_TARGET</th>\n",
       "      <td>0.284547</td>\n",
       "    </tr>\n",
       "    <tr>\n",
       "      <th>no_of_sales_12M_1</th>\n",
       "      <td>0.277876</td>\n",
       "    </tr>\n",
       "    <tr>\n",
       "      <th>no_of_assetclass_Redemption_12M_10K</th>\n",
       "      <td>0.270090</td>\n",
       "    </tr>\n",
       "    <tr>\n",
       "      <th>aum_P_SMA</th>\n",
       "      <td>0.237702</td>\n",
       "    </tr>\n",
       "    <tr>\n",
       "      <th>no_of_assetclass_sold_12M_1</th>\n",
       "      <td>0.230317</td>\n",
       "    </tr>\n",
       "    <tr>\n",
       "      <th>new_Fund_added_12M_y</th>\n",
       "      <td>0.220629</td>\n",
       "    </tr>\n",
       "    <tr>\n",
       "      <th>no_of_assetclass_redeemed_12M_1</th>\n",
       "      <td>0.210208</td>\n",
       "    </tr>\n",
       "    <tr>\n",
       "      <th>aum_AC_EQUITY</th>\n",
       "      <td>0.203603</td>\n",
       "    </tr>\n",
       "    <tr>\n",
       "      <th>No_of_asset_curr</th>\n",
       "      <td>0.197785</td>\n",
       "    </tr>\n",
       "    <tr>\n",
       "      <th>no_of_Redemption_12M_1</th>\n",
       "      <td>0.175101</td>\n",
       "    </tr>\n",
       "    <tr>\n",
       "      <th>new_Fund_added_12M_x</th>\n",
       "      <td>0.172036</td>\n",
       "    </tr>\n",
       "    <tr>\n",
       "      <th>aum_AC_FIXED_INCOME_TAXABLE</th>\n",
       "      <td>0.161398</td>\n",
       "    </tr>\n",
       "    <tr>\n",
       "      <th>aum_P_CEF</th>\n",
       "      <td>0.109907</td>\n",
       "    </tr>\n",
       "    <tr>\n",
       "      <th>aum_AC_PHYSICAL_COMMODITY</th>\n",
       "      <td>0.089165</td>\n",
       "    </tr>\n",
       "    <tr>\n",
       "      <th>aum_AC_MULTIPLE</th>\n",
       "      <td>0.081209</td>\n",
       "    </tr>\n",
       "    <tr>\n",
       "      <th>aum_P_UCITS</th>\n",
       "      <td>0.008510</td>\n",
       "    </tr>\n",
       "    <tr>\n",
       "      <th>aum_P_UIT</th>\n",
       "      <td>0.006928</td>\n",
       "    </tr>\n",
       "    <tr>\n",
       "      <th>aum_P_529</th>\n",
       "      <td>0.005968</td>\n",
       "    </tr>\n",
       "    <tr>\n",
       "      <th>aum_P_ETF</th>\n",
       "      <td>0.004165</td>\n",
       "    </tr>\n",
       "    <tr>\n",
       "      <th>aum_AC_REAL_ESTATE</th>\n",
       "      <td>0.003419</td>\n",
       "    </tr>\n",
       "    <tr>\n",
       "      <th>aum_P_ALT</th>\n",
       "      <td>0.003320</td>\n",
       "    </tr>\n",
       "    <tr>\n",
       "      <th>aum_AC_MONEY</th>\n",
       "      <td>-0.001167</td>\n",
       "    </tr>\n",
       "    <tr>\n",
       "      <th>redemption_curr</th>\n",
       "      <td>-0.339759</td>\n",
       "    </tr>\n",
       "    <tr>\n",
       "      <th>redemption_12M</th>\n",
       "      <td>-0.420063</td>\n",
       "    </tr>\n",
       "  </tbody>\n",
       "</table>\n",
       "</div>"
      ],
      "text/plain": [
       "                                     new_sales\n",
       "new_sales                             1.000000\n",
       "total_sales                           0.670998\n",
       "aum_P_MF                              0.585027\n",
       "sales_12M_x                           0.571367\n",
       "aum_AC_FIXED_INCOME_MUNI              0.553905\n",
       "AUM                                   0.511086\n",
       "sales_curr                            0.458098\n",
       "no_of_fund_sales_12M_10K              0.398583\n",
       "no_of_sales_12M_10K                   0.380308\n",
       "no_of_funds_Redemption_12M_10K        0.375622\n",
       "no_of_funds_sold_12M_1                0.313874\n",
       "no_of_funds_redeemed_12M_1            0.312357\n",
       "no_of_Redemption_12M_10K              0.302338\n",
       "no_of_assetclass_sales_12M_10K        0.300077\n",
       "No_of_fund_curr                       0.300006\n",
       "aum_AC_TARGET                         0.284547\n",
       "no_of_sales_12M_1                     0.277876\n",
       "no_of_assetclass_Redemption_12M_10K   0.270090\n",
       "aum_P_SMA                             0.237702\n",
       "no_of_assetclass_sold_12M_1           0.230317\n",
       "new_Fund_added_12M_y                  0.220629\n",
       "no_of_assetclass_redeemed_12M_1       0.210208\n",
       "aum_AC_EQUITY                         0.203603\n",
       "No_of_asset_curr                      0.197785\n",
       "no_of_Redemption_12M_1                0.175101\n",
       "new_Fund_added_12M_x                  0.172036\n",
       "aum_AC_FIXED_INCOME_TAXABLE           0.161398\n",
       "aum_P_CEF                             0.109907\n",
       "aum_AC_PHYSICAL_COMMODITY             0.089165\n",
       "aum_AC_MULTIPLE                       0.081209\n",
       "aum_P_UCITS                           0.008510\n",
       "aum_P_UIT                             0.006928\n",
       "aum_P_529                             0.005968\n",
       "aum_P_ETF                             0.004165\n",
       "aum_AC_REAL_ESTATE                    0.003419\n",
       "aum_P_ALT                             0.003320\n",
       "aum_AC_MONEY                         -0.001167\n",
       "redemption_curr                      -0.339759\n",
       "redemption_12M                       -0.420063"
      ]
     },
     "execution_count": 380,
     "metadata": {},
     "output_type": "execute_result"
    }
   ],
   "source": [
    "full_df.corr()[['new_sales']].sort_values(by='new_sales', ascending=False)"
   ]
  },
  {
   "cell_type": "markdown",
   "metadata": {},
   "source": [
    "# CLASSIFICATION PROBLEM"
   ]
  },
  {
   "cell_type": "code",
   "execution_count": 547,
   "metadata": {},
   "outputs": [],
   "source": [
    "full_df.rename({'new_Fund_added_12M_y': 'new_fund_added'}, axis = 1, inplace=True)"
   ]
  },
  {
   "cell_type": "code",
   "execution_count": 548,
   "metadata": {},
   "outputs": [],
   "source": [
    "Xcl = full_df[['total_sales', 'sales_12M_x', 'AUM', 'aum_AC_FIXED_INCOME_MUNI', 'aum_P_MF', \n",
    "             'redemption_12M', 'sales_curr', 'no_of_sales_12M_10K', 'no_of_Redemption_12M_10K',  \n",
    "             'redemption_curr', 'no_of_fund_sales_12M_10K', 'no_of_funds_Redemption_12M_10K', \n",
    "             'no_of_assetclass_sales_12M_10K', 'no_of_funds_redeemed_12M_1', 'no_of_funds_sold_12M_1', 'No_of_fund_curr']]\n",
    "\n",
    "ycl = full_df['new_fund_added']"
   ]
  },
  {
   "cell_type": "code",
   "execution_count": 549,
   "metadata": {},
   "outputs": [
    {
     "name": "stderr",
     "output_type": "stream",
     "text": [
      "C:\\Users\\tkamau\\AppData\\Roaming\\Python\\Python38\\site-packages\\seaborn\\_decorators.py:36: FutureWarning: Pass the following variable as a keyword arg: x. From version 0.12, the only valid positional argument will be `data`, and passing other arguments without an explicit keyword will result in an error or misinterpretation.\n",
      "  warnings.warn(\n"
     ]
    },
    {
     "data": {
      "text/plain": [
       "<matplotlib.axes._subplots.AxesSubplot at 0x24107733b80>"
      ]
     },
     "execution_count": 549,
     "metadata": {},
     "output_type": "execute_result"
    },
    {
     "data": {
      "image/png": "[encoded data removed]",
      "text/plain": [
       "<Figure size 432x288 with 1 Axes>"
      ]
     },
     "metadata": {
      "needs_background": "light"
     },
     "output_type": "display_data"
    }
   ],
   "source": [
    "sns.countplot(full_df['new_fund_added'])"
   ]
  },
  {
   "cell_type": "markdown",
   "metadata": {},
   "source": [
    "# Binarize Targets"
   ]
  },
  {
   "cell_type": "code",
   "execution_count": 550,
   "metadata": {},
   "outputs": [],
   "source": [
    "full_df.rename({'new_Fund_added_12M_y': 'new_fund_added'}, axis = 1, inplace=True)"
   ]
  },
  {
   "cell_type": "code",
   "execution_count": 551,
   "metadata": {},
   "outputs": [
    {
     "data": {
      "text/html": [
       "<div>\n",
       "<style scoped>\n",
       "    .dataframe tbody tr th:only-of-type {\n",
       "        vertical-align: middle;\n",
       "    }\n",
       "\n",
       "    .dataframe tbody tr th {\n",
       "        vertical-align: top;\n",
       "    }\n",
       "\n",
       "    .dataframe thead th {\n",
       "        text-align: right;\n",
       "    }\n",
       "</style>\n",
       "<table border=\"1\" class=\"dataframe\">\n",
       "  <thead>\n",
       "    <tr style=\"text-align: right;\">\n",
       "      <th></th>\n",
       "      <th>Contact ID</th>\n",
       "      <th>no_of_sales_12M_1</th>\n",
       "      <th>no_of_Redemption_12M_1</th>\n",
       "      <th>no_of_sales_12M_10K</th>\n",
       "      <th>no_of_Redemption_12M_10K</th>\n",
       "      <th>no_of_funds_sold_12M_1</th>\n",
       "      <th>no_of_funds_redeemed_12M_1</th>\n",
       "      <th>no_of_fund_sales_12M_10K</th>\n",
       "      <th>no_of_funds_Redemption_12M_10K</th>\n",
       "      <th>no_of_assetclass_sold_12M_1</th>\n",
       "      <th>...</th>\n",
       "      <th>aum_P_UCITS</th>\n",
       "      <th>aum_P_UIT</th>\n",
       "      <th>refresh_date_x</th>\n",
       "      <th>total_sales</th>\n",
       "      <th>new_sales</th>\n",
       "      <th>new_fund_added</th>\n",
       "      <th>refresh_date_y</th>\n",
       "      <th>Channel</th>\n",
       "      <th>Sub channel</th>\n",
       "      <th>Firm name</th>\n",
       "    </tr>\n",
       "  </thead>\n",
       "  <tbody>\n",
       "    <tr>\n",
       "      <th>0</th>\n",
       "      <td>0047433</td>\n",
       "      <td>21.0</td>\n",
       "      <td>38.0</td>\n",
       "      <td>0.0</td>\n",
       "      <td>1.0</td>\n",
       "      <td>5.0</td>\n",
       "      <td>5.0</td>\n",
       "      <td>0.0</td>\n",
       "      <td>1.0</td>\n",
       "      <td>2.0</td>\n",
       "      <td>...</td>\n",
       "      <td>0.0</td>\n",
       "      <td>0.0</td>\n",
       "      <td>2018-12-31</td>\n",
       "      <td>19932.000</td>\n",
       "      <td>18633.105</td>\n",
       "      <td>0</td>\n",
       "      <td>2019-12-31</td>\n",
       "      <td>National Broker-Dealer</td>\n",
       "      <td>NACS</td>\n",
       "      <td>UBS Financial Services, Inc.</td>\n",
       "    </tr>\n",
       "    <tr>\n",
       "      <th>1</th>\n",
       "      <td>4461312</td>\n",
       "      <td>0.0</td>\n",
       "      <td>0.0</td>\n",
       "      <td>0.0</td>\n",
       "      <td>0.0</td>\n",
       "      <td>0.0</td>\n",
       "      <td>0.0</td>\n",
       "      <td>0.0</td>\n",
       "      <td>0.0</td>\n",
       "      <td>0.0</td>\n",
       "      <td>...</td>\n",
       "      <td>0.0</td>\n",
       "      <td>0.0</td>\n",
       "      <td>2018-12-31</td>\n",
       "      <td>0.000</td>\n",
       "      <td>0.000</td>\n",
       "      <td>0</td>\n",
       "      <td>2019-12-31</td>\n",
       "      <td>Dual</td>\n",
       "      <td>IBD</td>\n",
       "      <td>Charles Schwab Investor Services</td>\n",
       "    </tr>\n",
       "    <tr>\n",
       "      <th>2</th>\n",
       "      <td>4491079</td>\n",
       "      <td>0.0</td>\n",
       "      <td>0.0</td>\n",
       "      <td>0.0</td>\n",
       "      <td>0.0</td>\n",
       "      <td>0.0</td>\n",
       "      <td>0.0</td>\n",
       "      <td>0.0</td>\n",
       "      <td>0.0</td>\n",
       "      <td>0.0</td>\n",
       "      <td>...</td>\n",
       "      <td>0.0</td>\n",
       "      <td>0.0</td>\n",
       "      <td>2018-12-31</td>\n",
       "      <td>0.000</td>\n",
       "      <td>0.000</td>\n",
       "      <td>0</td>\n",
       "      <td>2019-12-31</td>\n",
       "      <td>Independent Dealer</td>\n",
       "      <td>RIA</td>\n",
       "      <td>The O.N. Equity Sales Company</td>\n",
       "    </tr>\n",
       "    <tr>\n",
       "      <th>3</th>\n",
       "      <td>0107408</td>\n",
       "      <td>20.0</td>\n",
       "      <td>0.0</td>\n",
       "      <td>2.0</td>\n",
       "      <td>0.0</td>\n",
       "      <td>1.0</td>\n",
       "      <td>0.0</td>\n",
       "      <td>1.0</td>\n",
       "      <td>0.0</td>\n",
       "      <td>1.0</td>\n",
       "      <td>...</td>\n",
       "      <td>0.0</td>\n",
       "      <td>0.0</td>\n",
       "      <td>2018-12-31</td>\n",
       "      <td>57943.000</td>\n",
       "      <td>93212.000</td>\n",
       "      <td>1</td>\n",
       "      <td>2019-12-31</td>\n",
       "      <td>Independent Dealer</td>\n",
       "      <td>IBD</td>\n",
       "      <td>Northwestern Mutual Investment Services, LLC</td>\n",
       "    </tr>\n",
       "    <tr>\n",
       "      <th>4</th>\n",
       "      <td>85101140503769936458</td>\n",
       "      <td>0.0</td>\n",
       "      <td>0.0</td>\n",
       "      <td>0.0</td>\n",
       "      <td>0.0</td>\n",
       "      <td>0.0</td>\n",
       "      <td>0.0</td>\n",
       "      <td>0.0</td>\n",
       "      <td>0.0</td>\n",
       "      <td>0.0</td>\n",
       "      <td>...</td>\n",
       "      <td>0.0</td>\n",
       "      <td>0.0</td>\n",
       "      <td>2018-12-31</td>\n",
       "      <td>0.000</td>\n",
       "      <td>0.000</td>\n",
       "      <td>0</td>\n",
       "      <td>2019-12-31</td>\n",
       "      <td>Independent Dealer</td>\n",
       "      <td>RIA</td>\n",
       "      <td>Berthel, Fisher &amp; Co. Financial Services, Inc.</td>\n",
       "    </tr>\n",
       "    <tr>\n",
       "      <th>...</th>\n",
       "      <td>...</td>\n",
       "      <td>...</td>\n",
       "      <td>...</td>\n",
       "      <td>...</td>\n",
       "      <td>...</td>\n",
       "      <td>...</td>\n",
       "      <td>...</td>\n",
       "      <td>...</td>\n",
       "      <td>...</td>\n",
       "      <td>...</td>\n",
       "      <td>...</td>\n",
       "      <td>...</td>\n",
       "      <td>...</td>\n",
       "      <td>...</td>\n",
       "      <td>...</td>\n",
       "      <td>...</td>\n",
       "      <td>...</td>\n",
       "      <td>...</td>\n",
       "      <td>...</td>\n",
       "      <td>...</td>\n",
       "      <td>...</td>\n",
       "    </tr>\n",
       "    <tr>\n",
       "      <th>10000</th>\n",
       "      <td>4354749</td>\n",
       "      <td>12.0</td>\n",
       "      <td>35.0</td>\n",
       "      <td>7.0</td>\n",
       "      <td>28.0</td>\n",
       "      <td>3.0</td>\n",
       "      <td>4.0</td>\n",
       "      <td>3.0</td>\n",
       "      <td>4.0</td>\n",
       "      <td>2.0</td>\n",
       "      <td>...</td>\n",
       "      <td>0.0</td>\n",
       "      <td>0.0</td>\n",
       "      <td>2018-12-31</td>\n",
       "      <td>362101.310</td>\n",
       "      <td>914411.060</td>\n",
       "      <td>1</td>\n",
       "      <td>2019-12-31</td>\n",
       "      <td>Independent Dealer</td>\n",
       "      <td>IBD</td>\n",
       "      <td>LPL Financial LLC</td>\n",
       "    </tr>\n",
       "    <tr>\n",
       "      <th>10001</th>\n",
       "      <td>85202110743700895498</td>\n",
       "      <td>85.0</td>\n",
       "      <td>64.0</td>\n",
       "      <td>1.0</td>\n",
       "      <td>0.0</td>\n",
       "      <td>7.0</td>\n",
       "      <td>4.0</td>\n",
       "      <td>1.0</td>\n",
       "      <td>0.0</td>\n",
       "      <td>3.0</td>\n",
       "      <td>...</td>\n",
       "      <td>0.0</td>\n",
       "      <td>0.0</td>\n",
       "      <td>2018-12-31</td>\n",
       "      <td>178024.535</td>\n",
       "      <td>540906.000</td>\n",
       "      <td>1</td>\n",
       "      <td>2019-12-31</td>\n",
       "      <td>Independent Dealer</td>\n",
       "      <td>IBD</td>\n",
       "      <td>Ameriprise Financial Services, Inc.</td>\n",
       "    </tr>\n",
       "    <tr>\n",
       "      <th>10002</th>\n",
       "      <td>85101153615072327284</td>\n",
       "      <td>18.0</td>\n",
       "      <td>39.0</td>\n",
       "      <td>5.0</td>\n",
       "      <td>3.0</td>\n",
       "      <td>4.0</td>\n",
       "      <td>4.0</td>\n",
       "      <td>2.0</td>\n",
       "      <td>3.0</td>\n",
       "      <td>2.0</td>\n",
       "      <td>...</td>\n",
       "      <td>0.0</td>\n",
       "      <td>0.0</td>\n",
       "      <td>2018-12-31</td>\n",
       "      <td>0.000</td>\n",
       "      <td>122282.970</td>\n",
       "      <td>1</td>\n",
       "      <td>2019-12-31</td>\n",
       "      <td>National Broker-Dealer</td>\n",
       "      <td>NACS</td>\n",
       "      <td>Merrill Lynch</td>\n",
       "    </tr>\n",
       "    <tr>\n",
       "      <th>10003</th>\n",
       "      <td>4486975</td>\n",
       "      <td>34.0</td>\n",
       "      <td>51.0</td>\n",
       "      <td>5.0</td>\n",
       "      <td>8.0</td>\n",
       "      <td>16.0</td>\n",
       "      <td>20.0</td>\n",
       "      <td>3.0</td>\n",
       "      <td>8.0</td>\n",
       "      <td>5.0</td>\n",
       "      <td>...</td>\n",
       "      <td>0.0</td>\n",
       "      <td>0.0</td>\n",
       "      <td>2018-12-31</td>\n",
       "      <td>207648.570</td>\n",
       "      <td>207464.290</td>\n",
       "      <td>0</td>\n",
       "      <td>2019-12-31</td>\n",
       "      <td>Fee-Based Adviser</td>\n",
       "      <td>IBD</td>\n",
       "      <td>U.S. Bancorp Wealth Management</td>\n",
       "    </tr>\n",
       "    <tr>\n",
       "      <th>10004</th>\n",
       "      <td>0185870</td>\n",
       "      <td>0.0</td>\n",
       "      <td>0.0</td>\n",
       "      <td>0.0</td>\n",
       "      <td>0.0</td>\n",
       "      <td>0.0</td>\n",
       "      <td>0.0</td>\n",
       "      <td>0.0</td>\n",
       "      <td>0.0</td>\n",
       "      <td>0.0</td>\n",
       "      <td>...</td>\n",
       "      <td>0.0</td>\n",
       "      <td>0.0</td>\n",
       "      <td>2018-12-31</td>\n",
       "      <td>0.000</td>\n",
       "      <td>0.000</td>\n",
       "      <td>0</td>\n",
       "      <td>2019-12-31</td>\n",
       "      <td>National Broker-Dealer</td>\n",
       "      <td>NACS</td>\n",
       "      <td>Morgan Stanley Wealth Management</td>\n",
       "    </tr>\n",
       "  </tbody>\n",
       "</table>\n",
       "<p>10005 rows × 45 columns</p>\n",
       "</div>"
      ],
      "text/plain": [
       "                 Contact ID  no_of_sales_12M_1  no_of_Redemption_12M_1  \\\n",
       "0                   0047433               21.0                    38.0   \n",
       "1                   4461312                0.0                     0.0   \n",
       "2                   4491079                0.0                     0.0   \n",
       "3                   0107408               20.0                     0.0   \n",
       "4      85101140503769936458                0.0                     0.0   \n",
       "...                     ...                ...                     ...   \n",
       "10000               4354749               12.0                    35.0   \n",
       "10001  85202110743700895498               85.0                    64.0   \n",
       "10002  85101153615072327284               18.0                    39.0   \n",
       "10003               4486975               34.0                    51.0   \n",
       "10004               0185870                0.0                     0.0   \n",
       "\n",
       "       no_of_sales_12M_10K  no_of_Redemption_12M_10K  no_of_funds_sold_12M_1  \\\n",
       "0                      0.0                       1.0                     5.0   \n",
       "1                      0.0                       0.0                     0.0   \n",
       "2                      0.0                       0.0                     0.0   \n",
       "3                      2.0                       0.0                     1.0   \n",
       "4                      0.0                       0.0                     0.0   \n",
       "...                    ...                       ...                     ...   \n",
       "10000                  7.0                      28.0                     3.0   \n",
       "10001                  1.0                       0.0                     7.0   \n",
       "10002                  5.0                       3.0                     4.0   \n",
       "10003                  5.0                       8.0                    16.0   \n",
       "10004                  0.0                       0.0                     0.0   \n",
       "\n",
       "       no_of_funds_redeemed_12M_1  no_of_fund_sales_12M_10K  \\\n",
       "0                             5.0                       0.0   \n",
       "1                             0.0                       0.0   \n",
       "2                             0.0                       0.0   \n",
       "3                             0.0                       1.0   \n",
       "4                             0.0                       0.0   \n",
       "...                           ...                       ...   \n",
       "10000                         4.0                       3.0   \n",
       "10001                         4.0                       1.0   \n",
       "10002                         4.0                       2.0   \n",
       "10003                        20.0                       3.0   \n",
       "10004                         0.0                       0.0   \n",
       "\n",
       "       no_of_funds_Redemption_12M_10K  no_of_assetclass_sold_12M_1  ...  \\\n",
       "0                                 1.0                          2.0  ...   \n",
       "1                                 0.0                          0.0  ...   \n",
       "2                                 0.0                          0.0  ...   \n",
       "3                                 0.0                          1.0  ...   \n",
       "4                                 0.0                          0.0  ...   \n",
       "...                               ...                          ...  ...   \n",
       "10000                             4.0                          2.0  ...   \n",
       "10001                             0.0                          3.0  ...   \n",
       "10002                             3.0                          2.0  ...   \n",
       "10003                             8.0                          5.0  ...   \n",
       "10004                             0.0                          0.0  ...   \n",
       "\n",
       "       aum_P_UCITS  aum_P_UIT  refresh_date_x  total_sales   new_sales  \\\n",
       "0              0.0        0.0      2018-12-31    19932.000   18633.105   \n",
       "1              0.0        0.0      2018-12-31        0.000       0.000   \n",
       "2              0.0        0.0      2018-12-31        0.000       0.000   \n",
       "3              0.0        0.0      2018-12-31    57943.000   93212.000   \n",
       "4              0.0        0.0      2018-12-31        0.000       0.000   \n",
       "...            ...        ...             ...          ...         ...   \n",
       "10000          0.0        0.0      2018-12-31   362101.310  914411.060   \n",
       "10001          0.0        0.0      2018-12-31   178024.535  540906.000   \n",
       "10002          0.0        0.0      2018-12-31        0.000  122282.970   \n",
       "10003          0.0        0.0      2018-12-31   207648.570  207464.290   \n",
       "10004          0.0        0.0      2018-12-31        0.000       0.000   \n",
       "\n",
       "       new_fund_added  refresh_date_y                 Channel  Sub channel  \\\n",
       "0                   0      2019-12-31  National Broker-Dealer         NACS   \n",
       "1                   0      2019-12-31                    Dual          IBD   \n",
       "2                   0      2019-12-31      Independent Dealer          RIA   \n",
       "3                   1      2019-12-31      Independent Dealer          IBD   \n",
       "4                   0      2019-12-31      Independent Dealer          RIA   \n",
       "...               ...             ...                     ...          ...   \n",
       "10000               1      2019-12-31      Independent Dealer          IBD   \n",
       "10001               1      2019-12-31      Independent Dealer          IBD   \n",
       "10002               1      2019-12-31  National Broker-Dealer         NACS   \n",
       "10003               0      2019-12-31       Fee-Based Adviser          IBD   \n",
       "10004               0      2019-12-31  National Broker-Dealer         NACS   \n",
       "\n",
       "                                            Firm name  \n",
       "0                        UBS Financial Services, Inc.  \n",
       "1                    Charles Schwab Investor Services  \n",
       "2                       The O.N. Equity Sales Company  \n",
       "3        Northwestern Mutual Investment Services, LLC  \n",
       "4      Berthel, Fisher & Co. Financial Services, Inc.  \n",
       "...                                               ...  \n",
       "10000                               LPL Financial LLC  \n",
       "10001             Ameriprise Financial Services, Inc.  \n",
       "10002                                   Merrill Lynch  \n",
       "10003                  U.S. Bancorp Wealth Management  \n",
       "10004                Morgan Stanley Wealth Management  \n",
       "\n",
       "[10005 rows x 45 columns]"
      ]
     },
     "execution_count": 551,
     "metadata": {},
     "output_type": "execute_result"
    }
   ],
   "source": [
    "full_df"
   ]
  },
  {
   "cell_type": "code",
   "execution_count": 552,
   "metadata": {},
   "outputs": [],
   "source": [
    "full_df['new_fund_added'] = np.where(full_df['new_fund_added'] > 0, 1, 0)"
   ]
  },
  {
   "cell_type": "code",
   "execution_count": 553,
   "metadata": {},
   "outputs": [
    {
     "name": "stderr",
     "output_type": "stream",
     "text": [
      "C:\\Users\\tkamau\\AppData\\Roaming\\Python\\Python38\\site-packages\\seaborn\\_decorators.py:36: FutureWarning: Pass the following variable as a keyword arg: x. From version 0.12, the only valid positional argument will be `data`, and passing other arguments without an explicit keyword will result in an error or misinterpretation.\n",
      "  warnings.warn(\n"
     ]
    },
    {
     "data": {
      "text/plain": [
       "<matplotlib.axes._subplots.AxesSubplot at 0x24108e39730>"
      ]
     },
     "execution_count": 553,
     "metadata": {},
     "output_type": "execute_result"
    },
    {
     "data": {
      "image/png": "[encoded data removed]",
      "text/plain": [
       "<Figure size 432x288 with 1 Axes>"
      ]
     },
     "metadata": {
      "needs_background": "light"
     },
     "output_type": "display_data"
    }
   ],
   "source": [
    "sns.countplot(full_df['new_fund_added'])"
   ]
  },
  {
   "cell_type": "code",
   "execution_count": 554,
   "metadata": {},
   "outputs": [],
   "source": [
    "no = full_df[full_df['new_fund_added'] == 0]\n",
    "yes = full_df[full_df['new_fund_added'] == 1]"
   ]
  },
  {
   "cell_type": "code",
   "execution_count": 555,
   "metadata": {},
   "outputs": [
    {
     "name": "stderr",
     "output_type": "stream",
     "text": [
      "C:\\Users\\tkamau\\AppData\\Roaming\\Python\\Python38\\site-packages\\seaborn\\distributions.py:2551: FutureWarning: `distplot` is a deprecated function and will be removed in a future version. Please adapt your code to use either `displot` (a figure-level function with similar flexibility) or `histplot` (an axes-level function for histograms).\n",
      "  warnings.warn(msg, FutureWarning)\n",
      "C:\\Users\\tkamau\\AppData\\Roaming\\Python\\Python38\\site-packages\\seaborn\\distributions.py:2551: FutureWarning: `distplot` is a deprecated function and will be removed in a future version. Please adapt your code to use either `displot` (a figure-level function with similar flexibility) or `histplot` (an axes-level function for histograms).\n",
      "  warnings.warn(msg, FutureWarning)\n"
     ]
    },
    {
     "data": {
      "text/plain": [
       "<matplotlib.axes._subplots.AxesSubplot at 0x24108e6b640>"
      ]
     },
     "execution_count": 555,
     "metadata": {},
     "output_type": "execute_result"
    },
    {
     "data": {
      "image/png": "[encoded data removed]",
      "text/plain": [
       "<Figure size 432x288 with 1 Axes>"
      ]
     },
     "metadata": {
      "needs_background": "light"
     },
     "output_type": "display_data"
    }
   ],
   "source": [
    "sns.distplot(no['AUM'])\n",
    "sns.distplot(yes['AUM'])"
   ]
  },
  {
   "cell_type": "code",
   "execution_count": 556,
   "metadata": {},
   "outputs": [
    {
     "data": {
      "text/plain": [
       "LogisticRegression()"
      ]
     },
     "execution_count": 556,
     "metadata": {},
     "output_type": "execute_result"
    }
   ],
   "source": [
    "from sklearn.linear_model import LogisticRegression\n",
    "lgr = LogisticRegression()\n",
    "# Xcl_train, Xcl_test, ycl_train, ycl_test = train_test_split (Xcl,ycl, stratify = ycl)\n",
    "Xcl_train, Xcl_test, ycl_train, ycl_test = train_test_split(Xcl,ycl, test_size = 0.3, random_state = 0)\n",
    "lgr.fit(Xcl_train, ycl_train)"
   ]
  },
  {
   "cell_type": "code",
   "execution_count": 557,
   "metadata": {},
   "outputs": [
    {
     "data": {
      "text/plain": [
       "0.634585177780951"
      ]
     },
     "execution_count": 557,
     "metadata": {},
     "output_type": "execute_result"
    }
   ],
   "source": [
    "lgr.score(Xcl_train, ycl_train)"
   ]
  },
  {
   "cell_type": "code",
   "execution_count": 558,
   "metadata": {},
   "outputs": [
    {
     "data": {
      "text/plain": [
       "0.6345769487008661"
      ]
     },
     "execution_count": 558,
     "metadata": {},
     "output_type": "execute_result"
    }
   ],
   "source": [
    "lgr.score(Xcl_test, ycl_test)"
   ]
  },
  {
   "cell_type": "code",
   "execution_count": 559,
   "metadata": {},
   "outputs": [],
   "source": [
    "from sklearn.tree import DecisionTreeClassifier\n",
    "from sklearn.ensemble import AdaBoostClassifier, GradientBoostingClassifier, RandomForestClassifier"
   ]
  },
  {
   "cell_type": "code",
   "execution_count": 560,
   "metadata": {},
   "outputs": [],
   "source": [
    "dtreec = DecisionTreeClassifier()\n",
    "gboostc = GradientBoostingClassifier()\n",
    "adac = AdaBoostClassifier() "
   ]
  },
  {
   "cell_type": "code",
   "execution_count": 561,
   "metadata": {},
   "outputs": [
    {
     "data": {
      "text/plain": [
       "0.9740111380836785"
      ]
     },
     "execution_count": 561,
     "metadata": {},
     "output_type": "execute_result"
    }
   ],
   "source": [
    "dtreec.fit(Xcl_train, ycl_train)\n",
    "dtreec.score(Xcl_train, ycl_train)"
   ]
  },
  {
   "cell_type": "code",
   "execution_count": 562,
   "metadata": {},
   "outputs": [
    {
     "data": {
      "text/plain": [
       "0.6835443037974683"
      ]
     },
     "execution_count": 562,
     "metadata": {},
     "output_type": "execute_result"
    }
   ],
   "source": [
    "dtreec.score(Xcl_test, ycl_test)"
   ]
  },
  {
   "cell_type": "code",
   "execution_count": 563,
   "metadata": {},
   "outputs": [
    {
     "data": {
      "text/plain": [
       "AdaBoostClassifier()"
      ]
     },
     "execution_count": 563,
     "metadata": {},
     "output_type": "execute_result"
    }
   ],
   "source": [
    "adac.fit(Xcl_train, ycl_train)"
   ]
  },
  {
   "cell_type": "code",
   "execution_count": 564,
   "metadata": {},
   "outputs": [
    {
     "data": {
      "text/plain": [
       "0.7599600171355133"
      ]
     },
     "execution_count": 564,
     "metadata": {},
     "output_type": "execute_result"
    }
   ],
   "source": [
    "adac.score(Xcl_train, ycl_train)"
   ]
  },
  {
   "cell_type": "code",
   "execution_count": 565,
   "metadata": {},
   "outputs": [
    {
     "data": {
      "text/plain": [
       "0.759493670886076"
      ]
     },
     "execution_count": 565,
     "metadata": {},
     "output_type": "execute_result"
    }
   ],
   "source": [
    "adac.score(Xcl_test, ycl_test)"
   ]
  },
  {
   "cell_type": "code",
   "execution_count": 566,
   "metadata": {},
   "outputs": [
    {
     "data": {
      "text/plain": [
       "GradientBoostingClassifier()"
      ]
     },
     "execution_count": 566,
     "metadata": {},
     "output_type": "execute_result"
    }
   ],
   "source": [
    "gboostc.fit(Xcl_train, ycl_train)"
   ]
  },
  {
   "cell_type": "code",
   "execution_count": 567,
   "metadata": {},
   "outputs": [
    {
     "data": {
      "text/plain": [
       "0.7939454519491647"
      ]
     },
     "execution_count": 567,
     "metadata": {},
     "output_type": "execute_result"
    }
   ],
   "source": [
    "gboostc.score(Xcl_train, ycl_train)"
   ]
  },
  {
   "cell_type": "code",
   "execution_count": 568,
   "metadata": {},
   "outputs": [
    {
     "data": {
      "text/plain": [
       "0.7604930046635576"
      ]
     },
     "execution_count": 568,
     "metadata": {},
     "output_type": "execute_result"
    }
   ],
   "source": [
    "gboostc.score(Xcl_test, ycl_test)"
   ]
  },
  {
   "cell_type": "code",
   "execution_count": 569,
   "metadata": {},
   "outputs": [],
   "source": [
    "forest = RandomForestClassifier()"
   ]
  },
  {
   "cell_type": "code",
   "execution_count": 570,
   "metadata": {},
   "outputs": [
    {
     "data": {
      "text/plain": [
       "RandomForestClassifier()"
      ]
     },
     "execution_count": 570,
     "metadata": {},
     "output_type": "execute_result"
    }
   ],
   "source": [
    "forest.fit(Xcl_train, ycl_train)"
   ]
  },
  {
   "cell_type": "code",
   "execution_count": 571,
   "metadata": {},
   "outputs": [
    {
     "data": {
      "text/plain": [
       "0.9738683421390832"
      ]
     },
     "execution_count": 571,
     "metadata": {},
     "output_type": "execute_result"
    }
   ],
   "source": [
    "forest.score(Xcl_train, ycl_train)"
   ]
  },
  {
   "cell_type": "code",
   "execution_count": 572,
   "metadata": {},
   "outputs": [
    {
     "data": {
      "text/plain": [
       "0.7378414390406396"
      ]
     },
     "execution_count": 572,
     "metadata": {},
     "output_type": "execute_result"
    }
   ],
   "source": [
    "forest.score(Xcl_test, ycl_test)"
   ]
  },
  {
   "cell_type": "code",
   "execution_count": 573,
   "metadata": {},
   "outputs": [
    {
     "data": {
      "text/plain": [
       "GradientBoostingClassifier()"
      ]
     },
     "execution_count": 573,
     "metadata": {},
     "output_type": "execute_result"
    }
   ],
   "source": [
    " GradientBoostingClassifier()"
   ]
  },
  {
   "cell_type": "code",
   "execution_count": 574,
   "metadata": {},
   "outputs": [],
   "source": [
    "params = {'n_estimators': [50, 100, 200, 500],\n",
    "         'max_depth': [1,2,3,4]}"
   ]
  },
  {
   "cell_type": "code",
   "execution_count": 575,
   "metadata": {},
   "outputs": [],
   "source": [
    "grid = GridSearchCV(GradientBoostingClassifier(), param_grid = params)"
   ]
  },
  {
   "cell_type": "code",
   "execution_count": 576,
   "metadata": {},
   "outputs": [
    {
     "data": {
      "text/plain": [
       "GridSearchCV(estimator=GradientBoostingClassifier(),\n",
       "             param_grid={'max_depth': [1, 2, 3, 4],\n",
       "                         'n_estimators': [50, 100, 200, 500]})"
      ]
     },
     "execution_count": 576,
     "metadata": {},
     "output_type": "execute_result"
    }
   ],
   "source": [
    "grid.fit(Xcl_train, ycl_train)"
   ]
  },
  {
   "cell_type": "code",
   "execution_count": 577,
   "metadata": {},
   "outputs": [
    {
     "data": {
      "text/plain": [
       "0.8106525774668"
      ]
     },
     "execution_count": 577,
     "metadata": {},
     "output_type": "execute_result"
    }
   ],
   "source": [
    "grid.score(Xcl_train, ycl_train)"
   ]
  },
  {
   "cell_type": "code",
   "execution_count": 578,
   "metadata": {},
   "outputs": [
    {
     "data": {
      "text/plain": [
       "0.754163890739507"
      ]
     },
     "execution_count": 578,
     "metadata": {},
     "output_type": "execute_result"
    }
   ],
   "source": [
    "grid.score(Xcl_test, ycl_test)"
   ]
  },
  {
   "cell_type": "markdown",
   "metadata": {},
   "source": [
    "# Neural Network for Classification"
   ]
  },
  {
   "cell_type": "code",
   "execution_count": 579,
   "metadata": {},
   "outputs": [],
   "source": [
    "sscaler = StandardScaler()\n",
    "Xcl_train = sscaler.fit_transform(Xcl_train)\n",
    "Xcl_test = sscaler.transform(Xcl_test)"
   ]
  },
  {
   "cell_type": "code",
   "execution_count": 474,
   "metadata": {},
   "outputs": [],
   "source": [
    "import keras\n",
    "from keras.layers import Dense\n",
    "from keras.models import Sequential"
   ]
  },
  {
   "cell_type": "code",
   "execution_count": 475,
   "metadata": {},
   "outputs": [],
   "source": [
    "from keras.callbacks import EarlyStopping"
   ]
  },
  {
   "cell_type": "code",
   "execution_count": 476,
   "metadata": {},
   "outputs": [],
   "source": [
    "callback = EarlyStopping(patience = 5)"
   ]
  },
  {
   "cell_type": "code",
   "execution_count": 477,
   "metadata": {},
   "outputs": [],
   "source": [
    "network = Sequential()\n",
    "network.add(Dense(64, activation = 'relu', input_shape = (Xcl_train.shape[1], )))\n",
    "network.add(Dense(128, activation = 'relu'))\n",
    "network.add(Dense(1, activation = 'sigmoid'))"
   ]
  },
  {
   "cell_type": "code",
   "execution_count": 478,
   "metadata": {},
   "outputs": [],
   "source": [
    "network.compile(optimizer = 'adam', loss = 'binary_crossentropy',\n",
    "                            metrics = ['accuracy'])"
   ]
  },
  {
   "cell_type": "code",
   "execution_count": 479,
   "metadata": {},
   "outputs": [],
   "source": [
    "history = network.fit(Xcl_train, ycl_train, validation_data = (Xcl_test, ycl_test), epochs = 200, verbose = 0) \n",
    "#                       callbacks=callback)"
   ]
  },
  {
   "cell_type": "code",
   "execution_count": 480,
   "metadata": {},
   "outputs": [
    {
     "data": {
      "text/plain": [
       "[<matplotlib.lines.Line2D at 0x2417f64e6d0>]"
      ]
     },
     "execution_count": 480,
     "metadata": {},
     "output_type": "execute_result"
    },
    {
     "data": {
      "image/png": "[encoded data removed]",
      "text/plain": [
       "<Figure size 432x288 with 1 Axes>"
      ]
     },
     "metadata": {
      "needs_background": "light"
     },
     "output_type": "display_data"
    }
   ],
   "source": [
    "plt.plot(history.history['loss'])\n",
    "plt.plot(history.history['val_loss'])"
   ]
  },
  {
   "cell_type": "markdown",
   "metadata": {},
   "source": [
    "# Standardizing Data SMOTE and Preprocessing Using a Pipeline"
   ]
  },
  {
   "cell_type": "code",
   "execution_count": 490,
   "metadata": {},
   "outputs": [],
   "source": [
    "from sklearn.linear_model import LogisticRegression\n",
    "from sklearn.preprocessing import StandardScaler\n",
    "from sklearn.pipeline import make_pipeline\n",
    "from sklearn.model_selection import train_test_split, GridSearchCV\n",
    "\n",
    "Xc = full_df[['total_sales', 'sales_12M_x', 'AUM', 'aum_AC_FIXED_INCOME_MUNI', 'aum_P_MF', \n",
    "             'redemption_12M', 'sales_curr', 'no_of_sales_12M_10K', 'no_of_Redemption_12M_10K',  \n",
    "             'redemption_curr', 'no_of_fund_sales_12M_10K', 'no_of_funds_Redemption_12M_10K', \n",
    "             'no_of_assetclass_sales_12M_10K', 'no_of_funds_redeemed_12M_1', 'no_of_funds_sold_12M_1', 'No_of_fund_curr']]\n",
    "\n",
    "yc = full_df['new_fund_added']"
   ]
  },
  {
   "cell_type": "code",
   "execution_count": 491,
   "metadata": {},
   "outputs": [
    {
     "data": {
      "text/plain": [
       "array([0, 1])"
      ]
     },
     "execution_count": 491,
     "metadata": {},
     "output_type": "execute_result"
    }
   ],
   "source": [
    "yc.unique()"
   ]
  },
  {
   "cell_type": "code",
   "execution_count": 581,
   "metadata": {},
   "outputs": [],
   "source": [
    "yc = np.where(y>0, 1, 0)"
   ]
  },
  {
   "cell_type": "code",
   "execution_count": 582,
   "metadata": {},
   "outputs": [],
   "source": [
    "# Xc_train, Xc_test, yc_train, yc_test = train_test_split(Xc,yc, stratify = y)\n",
    "Xc_train, Xc_test, yc_train, yc_test = train_test_split(Xc,yc, test_size = 0.3, random_state = 0)"
   ]
  },
  {
   "cell_type": "code",
   "execution_count": 583,
   "metadata": {},
   "outputs": [],
   "source": [
    "import seaborn as sns"
   ]
  },
  {
   "cell_type": "code",
   "execution_count": 584,
   "metadata": {},
   "outputs": [
    {
     "name": "stderr",
     "output_type": "stream",
     "text": [
      "C:\\Users\\tkamau\\AppData\\Roaming\\Python\\Python38\\site-packages\\seaborn\\_decorators.py:36: FutureWarning: Pass the following variable as a keyword arg: x. From version 0.12, the only valid positional argument will be `data`, and passing other arguments without an explicit keyword will result in an error or misinterpretation.\n",
      "  warnings.warn(\n"
     ]
    },
    {
     "data": {
      "text/plain": [
       "<matplotlib.axes._subplots.AxesSubplot at 0x241091aba00>"
      ]
     },
     "execution_count": 584,
     "metadata": {},
     "output_type": "execute_result"
    },
    {
     "data": {
      "image/png": "[encoded data removed]",
      "text/plain": [
       "<Figure size 432x288 with 1 Axes>"
      ]
     },
     "metadata": {
      "needs_background": "light"
     },
     "output_type": "display_data"
    }
   ],
   "source": [
    "sns.countplot(yc_train)"
   ]
  },
  {
   "cell_type": "code",
   "execution_count": 585,
   "metadata": {},
   "outputs": [
    {
     "name": "stderr",
     "output_type": "stream",
     "text": [
      "C:\\Users\\tkamau\\AppData\\Roaming\\Python\\Python38\\site-packages\\seaborn\\_decorators.py:36: FutureWarning: Pass the following variable as a keyword arg: x. From version 0.12, the only valid positional argument will be `data`, and passing other arguments without an explicit keyword will result in an error or misinterpretation.\n",
      "  warnings.warn(\n"
     ]
    },
    {
     "data": {
      "text/plain": [
       "<matplotlib.axes._subplots.AxesSubplot at 0x2410a1cba60>"
      ]
     },
     "execution_count": 585,
     "metadata": {},
     "output_type": "execute_result"
    },
    {
     "data": {
      "image/png": "[encoded data removed]",
      "text/plain": [
       "<Figure size 432x288 with 1 Axes>"
      ]
     },
     "metadata": {
      "needs_background": "light"
     },
     "output_type": "display_data"
    }
   ],
   "source": [
    "sns.countplot(yc_test)"
   ]
  },
  {
   "cell_type": "code",
   "execution_count": 586,
   "metadata": {},
   "outputs": [],
   "source": [
    "sscaler = StandardScaler()\n",
    "lgr = LogisticRegression()\n",
    "pipe = make_pipeline(sscaler, lgr)"
   ]
  },
  {
   "cell_type": "code",
   "execution_count": 587,
   "metadata": {},
   "outputs": [
    {
     "data": {
      "text/plain": [
       "Pipeline(steps=[('standardscaler', StandardScaler()),\n",
       "                ('logisticregression', LogisticRegression())])"
      ]
     },
     "execution_count": 587,
     "metadata": {},
     "output_type": "execute_result"
    }
   ],
   "source": [
    "pipe.fit(Xc_train, yc_train)"
   ]
  },
  {
   "cell_type": "code",
   "execution_count": 588,
   "metadata": {},
   "outputs": [
    {
     "data": {
      "text/plain": [
       "0.7993716978437813"
      ]
     },
     "execution_count": 588,
     "metadata": {},
     "output_type": "execute_result"
    }
   ],
   "source": [
    "pipe.score(Xc_train, yc_train)    "
   ]
  },
  {
   "cell_type": "code",
   "execution_count": 589,
   "metadata": {},
   "outputs": [
    {
     "data": {
      "text/plain": [
       "0.793471019320453"
      ]
     },
     "execution_count": 589,
     "metadata": {},
     "output_type": "execute_result"
    }
   ],
   "source": [
    "pipe.score(Xc_test, yc_test) "
   ]
  },
  {
   "cell_type": "code",
   "execution_count": null,
   "metadata": {},
   "outputs": [],
   "source": []
  },
  {
   "cell_type": "markdown",
   "metadata": {},
   "source": [
    "# Imbalanced Learn to Balance the Data"
   ]
  },
  {
   "cell_type": "code",
   "execution_count": 590,
   "metadata": {},
   "outputs": [],
   "source": [
    "from imblearn.over_sampling import SMOTE"
   ]
  },
  {
   "cell_type": "code",
   "execution_count": 591,
   "metadata": {},
   "outputs": [],
   "source": [
    "smote = SMOTE()\n",
    "Xc_train_resample, yc_train_resample = smote.fit_resample(Xc_train, yc_train)"
   ]
  },
  {
   "cell_type": "code",
   "execution_count": 592,
   "metadata": {},
   "outputs": [
    {
     "data": {
      "text/plain": [
       "Pipeline(steps=[('standardscaler', StandardScaler()),\n",
       "                ('logisticregression', LogisticRegression())])"
      ]
     },
     "execution_count": 592,
     "metadata": {},
     "output_type": "execute_result"
    }
   ],
   "source": [
    "pipe.fit(Xc_train_resample, yc_train_resample)"
   ]
  },
  {
   "cell_type": "code",
   "execution_count": 593,
   "metadata": {},
   "outputs": [
    {
     "data": {
      "text/plain": [
       "0.7998875772906127"
      ]
     },
     "execution_count": 593,
     "metadata": {},
     "output_type": "execute_result"
    }
   ],
   "source": [
    "pipe.score(Xc_train_resample, yc_train_resample)"
   ]
  },
  {
   "cell_type": "code",
   "execution_count": 709,
   "metadata": {},
   "outputs": [
    {
     "name": "stderr",
     "output_type": "stream",
     "text": [
      "C:\\Users\\tkamau\\AppData\\Roaming\\Python\\Python38\\site-packages\\seaborn\\_decorators.py:36: FutureWarning: Pass the following variable as a keyword arg: x. From version 0.12, the only valid positional argument will be `data`, and passing other arguments without an explicit keyword will result in an error or misinterpretation.\n",
      "  warnings.warn(\n"
     ]
    },
    {
     "data": {
      "text/plain": [
       "<matplotlib.axes._subplots.AxesSubplot at 0x2410c5e11c0>"
      ]
     },
     "execution_count": 709,
     "metadata": {},
     "output_type": "execute_result"
    },
    {
     "data": {
      "image/png": "[encoded data removed]",
      "text/plain": [
       "<Figure size 432x288 with 1 Axes>"
      ]
     },
     "metadata": {
      "needs_background": "light"
     },
     "output_type": "display_data"
    }
   ],
   "source": [
    "sns.countplot(yc_train_resample)"
   ]
  },
  {
   "cell_type": "code",
   "execution_count": 710,
   "metadata": {},
   "outputs": [],
   "source": [
    "# from sklearn.ensemble import GradientBoostingClassifier\n",
    "# gbt_base2 = GradientBoostingClassifier()\n",
    "# gbt_base2.fit(Xc_train_resample, yc_train_resample)\n",
    "# test_pred_class2 = gbt_base2.predict(Xc_test)\n",
    "# # print(classification_report(yc_test, test_pred_class2))\n",
    "# gbt_base2.score(Xc_train_resample, yc_train_resample)"
   ]
  },
  {
   "cell_type": "code",
   "execution_count": 711,
   "metadata": {},
   "outputs": [],
   "source": [
    "# gbt_base = GradientBoostingClassifier()\n",
    "# gbt_base.fit(X_train_prepared, y_train_cl)\n",
    "# test_pred_class = gbt_base.predict(X_test_prepared)\n",
    "# print(classification_report(y_test_cl, test_pred_class))"
   ]
  },
  {
   "cell_type": "code",
   "execution_count": 712,
   "metadata": {},
   "outputs": [],
   "source": [
    "coefs = pipe.named_steps['logisticregression'].coef_[0]\n",
    "features =Xc_train.columns"
   ]
  },
  {
   "cell_type": "code",
   "execution_count": 713,
   "metadata": {},
   "outputs": [
    {
     "data": {
      "text/html": [
       "<div>\n",
       "<style scoped>\n",
       "    .dataframe tbody tr th:only-of-type {\n",
       "        vertical-align: middle;\n",
       "    }\n",
       "\n",
       "    .dataframe tbody tr th {\n",
       "        vertical-align: top;\n",
       "    }\n",
       "\n",
       "    .dataframe thead th {\n",
       "        text-align: right;\n",
       "    }\n",
       "</style>\n",
       "<table border=\"1\" class=\"dataframe\">\n",
       "  <thead>\n",
       "    <tr style=\"text-align: right;\">\n",
       "      <th></th>\n",
       "      <th>coefs</th>\n",
       "      <th>features</th>\n",
       "    </tr>\n",
       "  </thead>\n",
       "  <tbody>\n",
       "    <tr>\n",
       "      <th>0</th>\n",
       "      <td>4.823373</td>\n",
       "      <td>total_sales</td>\n",
       "    </tr>\n",
       "    <tr>\n",
       "      <th>6</th>\n",
       "      <td>4.419039</td>\n",
       "      <td>sales_curr</td>\n",
       "    </tr>\n",
       "    <tr>\n",
       "      <th>14</th>\n",
       "      <td>2.304923</td>\n",
       "      <td>no_of_funds_sold_12M_1</td>\n",
       "    </tr>\n",
       "    <tr>\n",
       "      <th>12</th>\n",
       "      <td>1.107590</td>\n",
       "      <td>no_of_assetclass_sales_12M_10K</td>\n",
       "    </tr>\n",
       "    <tr>\n",
       "      <th>13</th>\n",
       "      <td>1.060067</td>\n",
       "      <td>no_of_funds_redeemed_12M_1</td>\n",
       "    </tr>\n",
       "    <tr>\n",
       "      <th>3</th>\n",
       "      <td>0.311216</td>\n",
       "      <td>aum_AC_FIXED_INCOME_MUNI</td>\n",
       "    </tr>\n",
       "    <tr>\n",
       "      <th>7</th>\n",
       "      <td>0.230557</td>\n",
       "      <td>no_of_sales_12M_10K</td>\n",
       "    </tr>\n",
       "    <tr>\n",
       "      <th>4</th>\n",
       "      <td>-0.007102</td>\n",
       "      <td>aum_P_MF</td>\n",
       "    </tr>\n",
       "    <tr>\n",
       "      <th>2</th>\n",
       "      <td>-0.024050</td>\n",
       "      <td>AUM</td>\n",
       "    </tr>\n",
       "    <tr>\n",
       "      <th>15</th>\n",
       "      <td>-0.026107</td>\n",
       "      <td>No_of_fund_curr</td>\n",
       "    </tr>\n",
       "    <tr>\n",
       "      <th>5</th>\n",
       "      <td>-0.062092</td>\n",
       "      <td>redemption_12M</td>\n",
       "    </tr>\n",
       "    <tr>\n",
       "      <th>1</th>\n",
       "      <td>-0.083265</td>\n",
       "      <td>sales_12M_x</td>\n",
       "    </tr>\n",
       "    <tr>\n",
       "      <th>8</th>\n",
       "      <td>-0.198862</td>\n",
       "      <td>no_of_Redemption_12M_10K</td>\n",
       "    </tr>\n",
       "    <tr>\n",
       "      <th>11</th>\n",
       "      <td>-0.278451</td>\n",
       "      <td>no_of_funds_Redemption_12M_10K</td>\n",
       "    </tr>\n",
       "    <tr>\n",
       "      <th>9</th>\n",
       "      <td>-0.312224</td>\n",
       "      <td>redemption_curr</td>\n",
       "    </tr>\n",
       "    <tr>\n",
       "      <th>10</th>\n",
       "      <td>-1.586055</td>\n",
       "      <td>no_of_fund_sales_12M_10K</td>\n",
       "    </tr>\n",
       "  </tbody>\n",
       "</table>\n",
       "</div>"
      ],
      "text/plain": [
       "       coefs                        features\n",
       "0   4.823373                     total_sales\n",
       "6   4.419039                      sales_curr\n",
       "14  2.304923          no_of_funds_sold_12M_1\n",
       "12  1.107590  no_of_assetclass_sales_12M_10K\n",
       "13  1.060067      no_of_funds_redeemed_12M_1\n",
       "3   0.311216        aum_AC_FIXED_INCOME_MUNI\n",
       "7   0.230557             no_of_sales_12M_10K\n",
       "4  -0.007102                        aum_P_MF\n",
       "2  -0.024050                             AUM\n",
       "15 -0.026107                 No_of_fund_curr\n",
       "5  -0.062092                  redemption_12M\n",
       "1  -0.083265                     sales_12M_x\n",
       "8  -0.198862        no_of_Redemption_12M_10K\n",
       "11 -0.278451  no_of_funds_Redemption_12M_10K\n",
       "9  -0.312224                 redemption_curr\n",
       "10 -1.586055        no_of_fund_sales_12M_10K"
      ]
     },
     "execution_count": 713,
     "metadata": {},
     "output_type": "execute_result"
    }
   ],
   "source": [
    "pd.DataFrame({'coefs': coefs, 'features':features}).sort_values(by = 'coefs', ascending = False)"
   ]
  },
  {
   "cell_type": "markdown",
   "metadata": {},
   "source": [
    "# CUMULATIVE GAINS AND LIFT CHARTS"
   ]
  },
  {
   "cell_type": "code",
   "execution_count": 714,
   "metadata": {},
   "outputs": [],
   "source": [
    "import scikitplot as skplot"
   ]
  },
  {
   "cell_type": "code",
   "execution_count": 715,
   "metadata": {},
   "outputs": [],
   "source": [
    "probs = pipe.predict_proba(Xcl_test)"
   ]
  },
  {
   "cell_type": "code",
   "execution_count": 716,
   "metadata": {},
   "outputs": [
    {
     "data": {
      "text/plain": [
       "<matplotlib.axes._subplots.AxesSubplot at 0x2410c622f40>"
      ]
     },
     "execution_count": 716,
     "metadata": {},
     "output_type": "execute_result"
    },
    {
     "data": {
      "image/png": "[encoded data removed]",
      "text/plain": [
       "<Figure size 432x288 with 1 Axes>"
      ]
     },
     "metadata": {
      "needs_background": "light"
     },
     "output_type": "display_data"
    }
   ],
   "source": [
    "skplot.metrics.plot_cumulative_gain(yc_test, probs)"
   ]
  },
  {
   "cell_type": "code",
   "execution_count": 717,
   "metadata": {},
   "outputs": [
    {
     "data": {
      "text/html": [
       "<div>\n",
       "<style scoped>\n",
       "    .dataframe tbody tr th:only-of-type {\n",
       "        vertical-align: middle;\n",
       "    }\n",
       "\n",
       "    .dataframe tbody tr th {\n",
       "        vertical-align: top;\n",
       "    }\n",
       "\n",
       "    .dataframe thead th {\n",
       "        text-align: right;\n",
       "    }\n",
       "</style>\n",
       "<table border=\"1\" class=\"dataframe\">\n",
       "  <thead>\n",
       "    <tr style=\"text-align: right;\">\n",
       "      <th></th>\n",
       "      <th>lift_positive</th>\n",
       "      <th>lift_pos_index</th>\n",
       "      <th>baseline</th>\n",
       "    </tr>\n",
       "    <tr>\n",
       "      <th>decile</th>\n",
       "      <th></th>\n",
       "      <th></th>\n",
       "      <th></th>\n",
       "    </tr>\n",
       "  </thead>\n",
       "  <tbody>\n",
       "    <tr>\n",
       "      <th>(-0.001, 5.449999999999999e-224]</th>\n",
       "      <td>0.384831</td>\n",
       "      <td>76.966292</td>\n",
       "      <td>0.5</td>\n",
       "    </tr>\n",
       "    <tr>\n",
       "      <th>(5.449999999999999e-224, 0.827]</th>\n",
       "      <td>0.414541</td>\n",
       "      <td>82.908163</td>\n",
       "      <td>0.5</td>\n",
       "    </tr>\n",
       "    <tr>\n",
       "      <th>(0.827, 1.0]</th>\n",
       "      <td>0.526512</td>\n",
       "      <td>105.302491</td>\n",
       "      <td>0.5</td>\n",
       "    </tr>\n",
       "  </tbody>\n",
       "</table>\n",
       "</div>"
      ],
      "text/plain": [
       "                                  lift_positive  lift_pos_index  baseline\n",
       "decile                                                                   \n",
       "(-0.001, 5.449999999999999e-224]       0.384831       76.966292       0.5\n",
       "(5.449999999999999e-224, 0.827]        0.414541       82.908163       0.5\n",
       "(0.827, 1.0]                           0.526512      105.302491       0.5"
      ]
     },
     "execution_count": 717,
     "metadata": {},
     "output_type": "execute_result"
    }
   ],
   "source": [
    "def calc_lift(Xc, yc, clf):\n",
    "    #True y\n",
    "    y_true = yc\n",
    "    #Predicted Probabilty that y = 1\n",
    "    prob = clf.predict_proba(Xc)[:,1]\n",
    "    #Predicted Value of y\n",
    "    y_preds = clf.predict(Xc)\n",
    "    #Compare the above to know how many are actually 1s\n",
    "    df = pd.DataFrame({'true': y_true, 'prob': prob, 'predict': y_preds})\n",
    "    #How many 1s\n",
    "    true_1s = df[\"true\"].sum()\n",
    "    #Total Observations and Probability of getting 1s (new fund)\n",
    "    total_obs = df.shape[0]   \n",
    "    pos_prob = true_1s / total_obs\n",
    "    #Sort and bin by highest probability\n",
    "    df['decile'] = pd.qcut(df['prob'], duplicates='drop', q=10)\n",
    "    pos_df = df.groupby('decile')\n",
    "    #Percent within bin that are 1s\n",
    "    lift_pos = pos_df['true'].sum()/pos_df['true'].count()\n",
    "    lift_ind_positive = lift_pos/pos_prob * 100\n",
    "    lift_df = pd.DataFrame({'lift_positive': lift_pos, 'lift_pos_index': lift_ind_positive,\n",
    "                           'baseline': pos_prob})\n",
    "#     lift_df.to_csv('Lift_Chart_cls.csv')\n",
    "    return lift_df\n",
    "\n",
    "    \n",
    "\n",
    "clf = pipe.named_steps['logisticregression']\n",
    "calc_lift(Xc_train_resample, yc_train_resample, clf)"
   ]
  },
  {
   "cell_type": "code",
   "execution_count": 718,
   "metadata": {},
   "outputs": [
    {
     "data": {
      "text/plain": [
       "0.7918054630246503"
      ]
     },
     "execution_count": 718,
     "metadata": {},
     "output_type": "execute_result"
    }
   ],
   "source": [
    "pipe.score(Xc_test, yc_test)"
   ]
  },
  {
   "cell_type": "code",
   "execution_count": 662,
   "metadata": {},
   "outputs": [
    {
     "data": {
      "text/plain": [
       "0.5036642238507661"
      ]
     },
     "execution_count": 662,
     "metadata": {},
     "output_type": "execute_result"
    }
   ],
   "source": [
    "yc_test.sum()/len(yc_test)"
   ]
  },
  {
   "cell_type": "markdown",
   "metadata": {},
   "source": [
    "# Using GridSearch with Cross-Validation"
   ]
  },
  {
   "cell_type": "code",
   "execution_count": 515,
   "metadata": {},
   "outputs": [],
   "source": [
    "params = {'logisticregression__C': [0.1, 1.0, 10.0]}\n",
    "grid = GridSearchCV(pipe, param_grid = params)"
   ]
  },
  {
   "cell_type": "code",
   "execution_count": 516,
   "metadata": {},
   "outputs": [
    {
     "name": "stderr",
     "output_type": "stream",
     "text": [
      "C:\\Users\\tkamau\\AppData\\Roaming\\Python\\Python38\\site-packages\\sklearn\\linear_model\\_logistic.py:762: ConvergenceWarning: lbfgs failed to converge (status=1):\n",
      "STOP: TOTAL NO. of ITERATIONS REACHED LIMIT.\n",
      "\n",
      "Increase the number of iterations (max_iter) or scale the data as shown in:\n",
      "    https://scikit-learn.org/stable/modules/preprocessing.html\n",
      "Please also refer to the documentation for alternative solver options:\n",
      "    https://scikit-learn.org/stable/modules/linear_model.html#logistic-regression\n",
      "  n_iter_i = _check_optimize_result(\n",
      "C:\\Users\\tkamau\\AppData\\Roaming\\Python\\Python38\\site-packages\\sklearn\\linear_model\\_logistic.py:762: ConvergenceWarning: lbfgs failed to converge (status=1):\n",
      "STOP: TOTAL NO. of ITERATIONS REACHED LIMIT.\n",
      "\n",
      "Increase the number of iterations (max_iter) or scale the data as shown in:\n",
      "    https://scikit-learn.org/stable/modules/preprocessing.html\n",
      "Please also refer to the documentation for alternative solver options:\n",
      "    https://scikit-learn.org/stable/modules/linear_model.html#logistic-regression\n",
      "  n_iter_i = _check_optimize_result(\n"
     ]
    },
    {
     "data": {
      "text/plain": [
       "GridSearchCV(estimator=Pipeline(steps=[('standardscaler', StandardScaler()),\n",
       "                                       ('logisticregression',\n",
       "                                        LogisticRegression())]),\n",
       "             param_grid={'logisticregression__C': [0.1, 1.0, 10.0]})"
      ]
     },
     "execution_count": 516,
     "metadata": {},
     "output_type": "execute_result"
    }
   ],
   "source": [
    "grid.fit(Xc, yc)"
   ]
  },
  {
   "cell_type": "code",
   "execution_count": 517,
   "metadata": {},
   "outputs": [
    {
     "data": {
      "text/plain": [
       "0.8009995002498751"
      ]
     },
     "execution_count": 517,
     "metadata": {},
     "output_type": "execute_result"
    }
   ],
   "source": [
    "grid.score(Xc, yc)"
   ]
  },
  {
   "cell_type": "code",
   "execution_count": 518,
   "metadata": {},
   "outputs": [
    {
     "data": {
      "text/html": [
       "<div>\n",
       "<style scoped>\n",
       "    .dataframe tbody tr th:only-of-type {\n",
       "        vertical-align: middle;\n",
       "    }\n",
       "\n",
       "    .dataframe tbody tr th {\n",
       "        vertical-align: top;\n",
       "    }\n",
       "\n",
       "    .dataframe thead th {\n",
       "        text-align: right;\n",
       "    }\n",
       "</style>\n",
       "<table border=\"1\" class=\"dataframe\">\n",
       "  <thead>\n",
       "    <tr style=\"text-align: right;\">\n",
       "      <th></th>\n",
       "      <th>mean_fit_time</th>\n",
       "      <th>std_fit_time</th>\n",
       "      <th>mean_score_time</th>\n",
       "      <th>std_score_time</th>\n",
       "      <th>param_logisticregression__C</th>\n",
       "      <th>params</th>\n",
       "      <th>split0_test_score</th>\n",
       "      <th>split1_test_score</th>\n",
       "      <th>split2_test_score</th>\n",
       "      <th>split3_test_score</th>\n",
       "      <th>split4_test_score</th>\n",
       "      <th>mean_test_score</th>\n",
       "      <th>std_test_score</th>\n",
       "      <th>rank_test_score</th>\n",
       "    </tr>\n",
       "  </thead>\n",
       "  <tbody>\n",
       "    <tr>\n",
       "      <th>0</th>\n",
       "      <td>0.052111</td>\n",
       "      <td>0.005482</td>\n",
       "      <td>0.001685</td>\n",
       "      <td>0.002202</td>\n",
       "      <td>0.1</td>\n",
       "      <td>{'logisticregression__C': 0.1}</td>\n",
       "      <td>0.801099</td>\n",
       "      <td>0.785607</td>\n",
       "      <td>0.797601</td>\n",
       "      <td>0.795102</td>\n",
       "      <td>0.799100</td>\n",
       "      <td>0.795702</td>\n",
       "      <td>0.005414</td>\n",
       "      <td>3</td>\n",
       "    </tr>\n",
       "    <tr>\n",
       "      <th>1</th>\n",
       "      <td>0.085532</td>\n",
       "      <td>0.007311</td>\n",
       "      <td>0.000000</td>\n",
       "      <td>0.000000</td>\n",
       "      <td>1</td>\n",
       "      <td>{'logisticregression__C': 1.0}</td>\n",
       "      <td>0.799600</td>\n",
       "      <td>0.789105</td>\n",
       "      <td>0.800600</td>\n",
       "      <td>0.800600</td>\n",
       "      <td>0.799600</td>\n",
       "      <td>0.797901</td>\n",
       "      <td>0.004420</td>\n",
       "      <td>2</td>\n",
       "    </tr>\n",
       "    <tr>\n",
       "      <th>2</th>\n",
       "      <td>0.205996</td>\n",
       "      <td>0.170117</td>\n",
       "      <td>0.002733</td>\n",
       "      <td>0.004522</td>\n",
       "      <td>10</td>\n",
       "      <td>{'logisticregression__C': 10.0}</td>\n",
       "      <td>0.803598</td>\n",
       "      <td>0.787606</td>\n",
       "      <td>0.797101</td>\n",
       "      <td>0.801599</td>\n",
       "      <td>0.806097</td>\n",
       "      <td>0.799200</td>\n",
       "      <td>0.006504</td>\n",
       "      <td>1</td>\n",
       "    </tr>\n",
       "  </tbody>\n",
       "</table>\n",
       "</div>"
      ],
      "text/plain": [
       "   mean_fit_time  std_fit_time  mean_score_time  std_score_time  \\\n",
       "0       0.052111      0.005482         0.001685        0.002202   \n",
       "1       0.085532      0.007311         0.000000        0.000000   \n",
       "2       0.205996      0.170117         0.002733        0.004522   \n",
       "\n",
       "  param_logisticregression__C                           params  \\\n",
       "0                         0.1   {'logisticregression__C': 0.1}   \n",
       "1                           1   {'logisticregression__C': 1.0}   \n",
       "2                          10  {'logisticregression__C': 10.0}   \n",
       "\n",
       "   split0_test_score  split1_test_score  split2_test_score  split3_test_score  \\\n",
       "0           0.801099           0.785607           0.797601           0.795102   \n",
       "1           0.799600           0.789105           0.800600           0.800600   \n",
       "2           0.803598           0.787606           0.797101           0.801599   \n",
       "\n",
       "   split4_test_score  mean_test_score  std_test_score  rank_test_score  \n",
       "0           0.799100         0.795702        0.005414                3  \n",
       "1           0.799600         0.797901        0.004420                2  \n",
       "2           0.806097         0.799200        0.006504                1  "
      ]
     },
     "execution_count": 518,
     "metadata": {},
     "output_type": "execute_result"
    }
   ],
   "source": [
    "pd.DataFrame(grid.cv_results_)"
   ]
  },
  {
   "cell_type": "markdown",
   "metadata": {},
   "source": [
    "# Feature Selection with RFECV"
   ]
  },
  {
   "cell_type": "code",
   "execution_count": null,
   "metadata": {},
   "outputs": [],
   "source": [
    "# Feature Selection with Univariate Statistical Tests\n",
    "# from pandas import read_csv\n",
    "# from numpy import set_printoptions\n",
    "# from sklearn.feature_selection import SelectKBest\n",
    "# from sklearn.feature_selection import f_classif\n",
    "# # load data\n",
    "# f\n",
    "# names = ['preg', 'plas', 'pres', 'skin', 'test', 'mass', 'pedi', 'age', 'class']\n",
    "# dataframe = read_csv(filename, names=names)\n",
    "# array = dataframe.values\n",
    "# X = array[:,0:8]\n",
    "# Y = array[:,8]\n",
    "# # feature extraction\n",
    "# test = SelectKBest(score_func=f_classif, k=4)\n",
    "# fit = test.fit(X, Y)\n",
    "# # summarize scores\n",
    "# set_printoptions(precision=3)\n",
    "# print(fit.scores_)\n",
    "# features = fit.transform(X)\n",
    "# # summarize selected features\n",
    "# print(features[0:5,:])"
   ]
  },
  {
   "cell_type": "code",
   "execution_count": null,
   "metadata": {},
   "outputs": [],
   "source": [
    "# # Suppose, we select 5 features with top 5 scores\n",
    "# selector = SelectKBest(f_classif, k = 'All')\n",
    "# # selector = SelectKBest(score_func=f_regression, k='all')\n",
    "# # #New dataframe with the selected features for later use in the . fit()\n",
    "# fit_xy = selector.fit_transform(X_train, y_train)\n",
    "# # X_new = selector.fit_transform(X_train_prepared, y_train_reg)\n",
    "# # transform train input data\n",
    "# X_train_fs = selector.transform(X_train)\n",
    "# # transform test input data\n",
    "# X_test_fs = selector.transform(X_test)\n",
    "# names = X_train.columns.values[selector.get_support()]\n",
    "# scores = selector.scores_[selector.get_support()]\n",
    "# names_scores = list(zip(names, scores))\n",
    "# ns_df = pd.DataFrame(data = names_scores, columns=['Feat_names', 'F_Scores'])\n",
    "# #Sort the dataframe for better visualization\n",
    "# ns_df_sorted = ns_df.sort_values(['F_Scores', 'Feat_names'], ascending = [False, True])\n",
    "# print(ns_df_sorted)"
   ]
  },
  {
   "cell_type": "code",
   "execution_count": 719,
   "metadata": {},
   "outputs": [
    {
     "name": "stderr",
     "output_type": "stream",
     "text": [
      "C:\\Users\\tkamau\\AppData\\Roaming\\Python\\Python38\\site-packages\\sklearn\\linear_model\\_logistic.py:762: ConvergenceWarning: lbfgs failed to converge (status=1):\n",
      "STOP: TOTAL NO. of ITERATIONS REACHED LIMIT.\n",
      "\n",
      "Increase the number of iterations (max_iter) or scale the data as shown in:\n",
      "    https://scikit-learn.org/stable/modules/preprocessing.html\n",
      "Please also refer to the documentation for alternative solver options:\n",
      "    https://scikit-learn.org/stable/modules/linear_model.html#logistic-regression\n",
      "  n_iter_i = _check_optimize_result(\n",
      "C:\\Users\\tkamau\\AppData\\Roaming\\Python\\Python38\\site-packages\\sklearn\\linear_model\\_logistic.py:762: ConvergenceWarning: lbfgs failed to converge (status=1):\n",
      "STOP: TOTAL NO. of ITERATIONS REACHED LIMIT.\n",
      "\n",
      "Increase the number of iterations (max_iter) or scale the data as shown in:\n",
      "    https://scikit-learn.org/stable/modules/preprocessing.html\n",
      "Please also refer to the documentation for alternative solver options:\n",
      "    https://scikit-learn.org/stable/modules/linear_model.html#logistic-regression\n",
      "  n_iter_i = _check_optimize_result(\n",
      "C:\\Users\\tkamau\\AppData\\Roaming\\Python\\Python38\\site-packages\\sklearn\\linear_model\\_logistic.py:762: ConvergenceWarning: lbfgs failed to converge (status=1):\n",
      "STOP: TOTAL NO. of ITERATIONS REACHED LIMIT.\n",
      "\n",
      "Increase the number of iterations (max_iter) or scale the data as shown in:\n",
      "    https://scikit-learn.org/stable/modules/preprocessing.html\n",
      "Please also refer to the documentation for alternative solver options:\n",
      "    https://scikit-learn.org/stable/modules/linear_model.html#logistic-regression\n",
      "  n_iter_i = _check_optimize_result(\n",
      "C:\\Users\\tkamau\\AppData\\Roaming\\Python\\Python38\\site-packages\\sklearn\\linear_model\\_logistic.py:762: ConvergenceWarning: lbfgs failed to converge (status=1):\n",
      "STOP: TOTAL NO. of ITERATIONS REACHED LIMIT.\n",
      "\n",
      "Increase the number of iterations (max_iter) or scale the data as shown in:\n",
      "    https://scikit-learn.org/stable/modules/preprocessing.html\n",
      "Please also refer to the documentation for alternative solver options:\n",
      "    https://scikit-learn.org/stable/modules/linear_model.html#logistic-regression\n",
      "  n_iter_i = _check_optimize_result(\n",
      "C:\\Users\\tkamau\\AppData\\Roaming\\Python\\Python38\\site-packages\\sklearn\\linear_model\\_logistic.py:762: ConvergenceWarning: lbfgs failed to converge (status=1):\n",
      "STOP: TOTAL NO. of ITERATIONS REACHED LIMIT.\n",
      "\n",
      "Increase the number of iterations (max_iter) or scale the data as shown in:\n",
      "    https://scikit-learn.org/stable/modules/preprocessing.html\n",
      "Please also refer to the documentation for alternative solver options:\n",
      "    https://scikit-learn.org/stable/modules/linear_model.html#logistic-regression\n",
      "  n_iter_i = _check_optimize_result(\n",
      "C:\\Users\\tkamau\\AppData\\Roaming\\Python\\Python38\\site-packages\\sklearn\\linear_model\\_logistic.py:762: ConvergenceWarning: lbfgs failed to converge (status=1):\n",
      "STOP: TOTAL NO. of ITERATIONS REACHED LIMIT.\n",
      "\n",
      "Increase the number of iterations (max_iter) or scale the data as shown in:\n",
      "    https://scikit-learn.org/stable/modules/preprocessing.html\n",
      "Please also refer to the documentation for alternative solver options:\n",
      "    https://scikit-learn.org/stable/modules/linear_model.html#logistic-regression\n",
      "  n_iter_i = _check_optimize_result(\n",
      "C:\\Users\\tkamau\\AppData\\Roaming\\Python\\Python38\\site-packages\\sklearn\\linear_model\\_logistic.py:762: ConvergenceWarning: lbfgs failed to converge (status=1):\n",
      "STOP: TOTAL NO. of ITERATIONS REACHED LIMIT.\n",
      "\n",
      "Increase the number of iterations (max_iter) or scale the data as shown in:\n",
      "    https://scikit-learn.org/stable/modules/preprocessing.html\n",
      "Please also refer to the documentation for alternative solver options:\n",
      "    https://scikit-learn.org/stable/modules/linear_model.html#logistic-regression\n",
      "  n_iter_i = _check_optimize_result(\n",
      "C:\\Users\\tkamau\\AppData\\Roaming\\Python\\Python38\\site-packages\\sklearn\\linear_model\\_logistic.py:762: ConvergenceWarning: lbfgs failed to converge (status=1):\n",
      "STOP: TOTAL NO. of ITERATIONS REACHED LIMIT.\n",
      "\n",
      "Increase the number of iterations (max_iter) or scale the data as shown in:\n",
      "    https://scikit-learn.org/stable/modules/preprocessing.html\n",
      "Please also refer to the documentation for alternative solver options:\n",
      "    https://scikit-learn.org/stable/modules/linear_model.html#logistic-regression\n",
      "  n_iter_i = _check_optimize_result(\n",
      "C:\\Users\\tkamau\\AppData\\Roaming\\Python\\Python38\\site-packages\\sklearn\\linear_model\\_logistic.py:762: ConvergenceWarning: lbfgs failed to converge (status=1):\n",
      "STOP: TOTAL NO. of ITERATIONS REACHED LIMIT.\n",
      "\n",
      "Increase the number of iterations (max_iter) or scale the data as shown in:\n",
      "    https://scikit-learn.org/stable/modules/preprocessing.html\n",
      "Please also refer to the documentation for alternative solver options:\n",
      "    https://scikit-learn.org/stable/modules/linear_model.html#logistic-regression\n",
      "  n_iter_i = _check_optimize_result(\n"
     ]
    },
    {
     "name": "stdout",
     "output_type": "stream",
     "text": [
      "Optimal number of features: 8\n",
      "[1 2 3 4 5 7 8 9]\n",
      "                        Feat_names     F_Scores\n",
      "0                      total_sales  3621.503634\n",
      "7              no_of_sales_12M_10K  3014.951210\n",
      "1                      sales_12M_x  2948.909098\n",
      "4                         aum_P_MF  2509.800004\n",
      "8         no_of_Redemption_12M_10K  2151.470165\n",
      "6                       sales_curr  1756.248014\n",
      "11  no_of_funds_Redemption_12M_10K  1731.636947\n",
      "10        no_of_fund_sales_12M_10K  1593.738234\n",
      "3         aum_AC_FIXED_INCOME_MUNI  1558.198214\n",
      "5                   redemption_12M  1542.653160\n",
      "9                  redemption_curr  1016.063623\n",
      "13      no_of_funds_redeemed_12M_1  1005.306746\n",
      "14          no_of_funds_sold_12M_1   914.186555\n",
      "15                 No_of_fund_curr   835.296221\n",
      "2                              AUM   726.690814\n",
      "12  no_of_assetclass_sales_12M_10K   710.399403\n"
     ]
    }
   ],
   "source": [
    "from sklearn.ensemble import RandomForestClassifier\n",
    "from sklearn.feature_selection import RFECV\n",
    "from sklearn.model_selection import StratifiedKFold\n",
    "\n",
    "rfc = LogisticRegression(random_state=101)\n",
    "rfecv = RFECV(estimator=rfc, step=1, cv=StratifiedKFold(10), scoring='accuracy')\n",
    "rfecv.fit(Xc, yc)\n",
    "\n",
    "print('Optimal number of features: {}'.format(rfecv.n_features_))\n",
    "print(np.where(rfecv.support_ == False)[0])\n",
    "\n",
    "\n",
    "names = Xc_train.columns.values[selector.get_support()]\n",
    "scores = selector.scores_[selector.get_support()]\n",
    "names_scores = list(zip(names, scores))\n",
    "cl_df = pd.DataFrame(data = names_scores, columns=['Feat_names', 'F_Scores'])\n",
    "#Sort the dataframe for better visualization\n",
    "cl_df_sorted = cl_df.sort_values(['F_Scores', 'Feat_names'], ascending = [False, True])\n",
    "print(cl_df_sorted)"
   ]
  },
  {
   "cell_type": "code",
   "execution_count": null,
   "metadata": {},
   "outputs": [],
   "source": [
    "# from sklearn.tree import DecisionTreeClassifier\n",
    "# # define the method\n",
    "# rfe = RFE(estimator=DecisionTreeClassifier(), n_features_to_select=3)\n",
    "# # fit the model\n",
    "# rfe.fit(X, ycl)\n",
    "# # transform the data\n",
    "# X, ycl = rfe.transform(X, ycl)"
   ]
  },
  {
   "cell_type": "code",
   "execution_count": null,
   "metadata": {},
   "outputs": [],
   "source": [
    "fulla_df = pd.read_csv('all_merged_unclean.csv')"
   ]
  },
  {
   "cell_type": "code",
   "execution_count": null,
   "metadata": {},
   "outputs": [],
   "source": [
    "fulla_df.head(1)"
   ]
  },
  {
   "cell_type": "code",
   "execution_count": null,
   "metadata": {},
   "outputs": [],
   "source": [
    "Xad = fulla_df[['total_sales', 'sales_12M_x', 'AUM', 'aum_AC_FIXED_INCOME_MUNI', 'aum_P_MF', \n",
    "             'redemption_12M', 'sales_curr', 'no_of_sales_12M_10K', 'no_of_Redemption_12M_10K',  \n",
    "             'redemption_curr', 'no_of_fund_sales_12M_10K', 'no_of_funds_Redemption_12M_10K', \n",
    "             'no_of_assetclass_sales_12M_10K', 'no_of_funds_redeemed_12M_1', 'no_of_funds_sold_12M_1', 'No_of_fund_curr']]\n",
    "\n",
    "ycd = fulla_df['new_Fund_added_12M_y']"
   ]
  },
  {
   "cell_type": "code",
   "execution_count": null,
   "metadata": {},
   "outputs": [],
   "source": []
  },
  {
   "cell_type": "code",
   "execution_count": null,
   "metadata": {},
   "outputs": [],
   "source": [
    "def output_deciles(regr, Xad, yd\n",
    "    results = pd.DataFrame(model.predict(Xad), index=yd.index, columns=['prediction'])\n",
    "    results['actual'] = yd.values\n",
    "    results['deciles'] = fulla_df.qcut(results['prediction'], 10, labels=False)\n",
    "    results['contact_id'] = results.index.map(adviser_lookup)\n",
    "    return results"
   ]
  },
  {
   "cell_type": "code",
   "execution_count": null,
   "metadata": {},
   "outputs": [],
   "source": [
    "adviser_lookup = {idx: contact_id for idx, contact_id in enumerate(df['Contact ID'])}"
   ]
  },
  {
   "cell_type": "code",
   "execution_count": null,
   "metadata": {},
   "outputs": [],
   "source": [
    "'85201142414218755394'"
   ]
  },
  {
   "cell_type": "code",
   "execution_count": null,
   "metadata": {},
   "outputs": [],
   "source": []
  }
 ],
 "metadata": {
  "kernelspec": {
   "display_name": "Python 3",
   "language": "python",
   "name": "python3"
  },
  "language_info": {
   "codemirror_mode": {
    "name": "ipython",
    "version": 3
   },
   "file_extension": ".py",
   "mimetype": "text/x-python",
   "name": "python",
   "nbconvert_exporter": "python",
   "pygments_lexer": "ipython3",
   "version": "3.8.2"
  }
 },
 "nbformat": 4,
 "nbformat_minor": 4
}
